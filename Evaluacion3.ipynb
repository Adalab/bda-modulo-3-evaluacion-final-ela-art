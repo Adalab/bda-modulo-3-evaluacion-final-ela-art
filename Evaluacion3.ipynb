{
 "cells": [
  {
   "cell_type": "code",
   "execution_count": 517,
   "id": "6adec820",
   "metadata": {},
   "outputs": [],
   "source": [
    "#importamos librerias\n",
    "import pandas as pd\n",
    "import numpy as np\n",
    "import matplotlib.pyplot as plt\n",
    "import seaborn as sns\n",
    "import scipy.stats as st\n",
    "import scipy.stats as stats\n",
    "from scipy.stats import shapiro, poisson, chisquare, expon, kstest\n",
    "from itertools import combinations\n"
   ]
  },
  {
   "cell_type": "code",
   "execution_count": 518,
   "id": "364c6e16",
   "metadata": {},
   "outputs": [],
   "source": [
    "#defino funcion generica para cargar CSV\n",
    "def load_csv(path, nrows=None):\n",
    "    df = pd.read_csv(path, nrows=nrows)\n",
    "    return df"
   ]
  },
  {
   "cell_type": "code",
   "execution_count": 519,
   "id": "e2bfd861",
   "metadata": {},
   "outputs": [
    {
     "name": "stdout",
     "output_type": "stream",
     "text": [
      "Index(['Loyalty Number', 'Year', 'Month', 'Flights Booked',\n",
      "       'Flights with Companions', 'Total Flights', 'Distance',\n",
      "       'Points Accumulated', 'Points Redeemed', 'Dollar Cost Points Redeemed'],\n",
      "      dtype='object')\n"
     ]
    }
   ],
   "source": [
    "#Cargo Flight.csv e imprimo las columnas\n",
    "df_flight = load_csv(r\"C:\\Users\\elaru\\OneDrive\\Desktop\\modulo 3\\Customer Flight Activity.csv\")\n",
    "print(df_flight.columns)\n",
    "\n"
   ]
  },
  {
   "cell_type": "code",
   "execution_count": 520,
   "id": "e46aeb3d",
   "metadata": {},
   "outputs": [],
   "source": [
    "#funcion pre_eda. me aseguro de la calidad y validacion de datos antes del EDA\n",
    "\n",
    "def pre_eda(df: pd.DataFrame, name: str = \"df\"): #una funcion pre-Eda que recibe un dataframe y lo llama df.\n",
    "    rep = {} #defnine un diccionario donde iran guardando los resuktados del preEda.\n",
    "\n",
    "\n",
    "    dfc = df.copy()# se crea una copia del dataframe para no trabajar sobre el original.\n",
    "\n",
    "    # Normaliza columnas\n",
    "    rep[\"cols_original\"] = list(dfc.columns)#Guarda el nombre de las columnas.Normaliza el texto.Convierte a minuscula,quita espacios,\n",
    "                                            #cambia los espacios por guiones bajos y eliminia cualquier caracter raro con regex)\n",
    "    dfc.columns = (\n",
    "        dfc.columns.str.strip().str.lower()\n",
    "        .str.replace(\" \", \"_\", regex=True)\n",
    "        .str.replace(\"[^0-9a-z_]\", \"\", regex=True)\n",
    "    )\n",
    "    rep[\"cols_limpias\"] = list(dfc.columns) #guarda los nombres ya limpios\n",
    "\n",
    " \n",
    "    rep[\"shape\"] = dfc.shape #devuelve funciones basicas de pandas. Devuelve el tamaño y el tipo de dato de cada columna.\n",
    "    rep[\"dtypes\"] = dfc.dtypes\n",
    "\n",
    "  \n",
    "    rep[\"nulos\"] = dfc.isnull().sum().sort_values(ascending=False)#saca los nulos y los duplicados.\n",
    "    rep[\"duplicados\"] = int(dfc.duplicated().sum())\n",
    "\n",
    "    # === Print ordenado ===\n",
    "    print(f\"\\n== {name.upper()} ==\") #Esto es solo para quede bonito en Mayuscula.\n",
    "    print(f\"shape: {rep['shape']}\\n\")\n",
    "\n",
    "    print(\"tipos:\")\n",
    "    print(rep[\"dtypes\"].to_string())#el tipo,nulos,duplicados en texto plano para que no se corte \n",
    "\n",
    "    print(\"Nulos por columna:\")\n",
    "    print(rep[\"nulos\"].to_string())\n",
    "\n",
    "\n",
    "    print(f\"\\nDuplicados totales: {rep['duplicados']}\")\n",
    "\n",
    "    return dfc #devuelve en un dataframe limpio \n"
   ]
  },
  {
   "cell_type": "code",
   "execution_count": 521,
   "id": "78b8a71d",
   "metadata": {},
   "outputs": [
    {
     "name": "stdout",
     "output_type": "stream",
     "text": [
      "\n",
      "== FLIGHT ==\n",
      "shape: (405624, 10)\n",
      "\n",
      "tipos:\n",
      "loyalty_number                   int64\n",
      "year                             int64\n",
      "month                            int64\n",
      "flights_booked                   int64\n",
      "flights_with_companions          int64\n",
      "total_flights                    int64\n",
      "distance                         int64\n",
      "points_accumulated             float64\n",
      "points_redeemed                  int64\n",
      "dollar_cost_points_redeemed      int64\n",
      "Nulos por columna:\n",
      "loyalty_number                 0\n",
      "year                           0\n",
      "month                          0\n",
      "flights_booked                 0\n",
      "flights_with_companions        0\n",
      "total_flights                  0\n",
      "distance                       0\n",
      "points_accumulated             0\n",
      "points_redeemed                0\n",
      "dollar_cost_points_redeemed    0\n",
      "\n",
      "Duplicados totales: 1864\n"
     ]
    }
   ],
   "source": [
    "df_flight_clean = pre_eda(df_flight, \"flight\")# la llamada para aplicar preEda al CSV Flight\n"
   ]
  },
  {
   "cell_type": "markdown",
   "id": "673aa4eb",
   "metadata": {},
   "source": [
    "Customer Flight Activity contiene 405.624 registros y 10 columnas. Los tipos de datos son correctos (identificador, variables temporales en formato numérico y métricas de vuelos y puntos como enteros o decimales). No se detectan valores nulos en ninguna columna. Se identifican 1.864 registros duplicados, que deben analizarse con detalle: algunos pueden ser copias exactas eliminables y otros múltiples registros válidos de un mismo cliente en un mismo mes. En general, el dataset se encuentra en buen estado para continuar con el análisis exploratorio."
   ]
  },
  {
   "cell_type": "code",
   "execution_count": 522,
   "id": "134a9ebe",
   "metadata": {},
   "outputs": [
    {
     "data": {
      "text/html": [
       "<div>\n",
       "<style scoped>\n",
       "    .dataframe tbody tr th:only-of-type {\n",
       "        vertical-align: middle;\n",
       "    }\n",
       "\n",
       "    .dataframe tbody tr th {\n",
       "        vertical-align: top;\n",
       "    }\n",
       "\n",
       "    .dataframe thead th {\n",
       "        text-align: right;\n",
       "    }\n",
       "</style>\n",
       "<table border=\"1\" class=\"dataframe\">\n",
       "  <thead>\n",
       "    <tr style=\"text-align: right;\">\n",
       "      <th></th>\n",
       "      <th>loyalty_number</th>\n",
       "      <th>year</th>\n",
       "      <th>month</th>\n",
       "      <th>flights_booked</th>\n",
       "      <th>flights_with_companions</th>\n",
       "      <th>total_flights</th>\n",
       "      <th>distance</th>\n",
       "      <th>points_accumulated</th>\n",
       "      <th>points_redeemed</th>\n",
       "      <th>dollar_cost_points_redeemed</th>\n",
       "    </tr>\n",
       "  </thead>\n",
       "  <tbody>\n",
       "    <tr>\n",
       "      <th>count</th>\n",
       "      <td>405624.000000</td>\n",
       "      <td>405624.000000</td>\n",
       "      <td>405624.000000</td>\n",
       "      <td>405624.000000</td>\n",
       "      <td>405624.000000</td>\n",
       "      <td>405624.000000</td>\n",
       "      <td>405624.000000</td>\n",
       "      <td>405624.000000</td>\n",
       "      <td>405624.000000</td>\n",
       "      <td>405624.000000</td>\n",
       "    </tr>\n",
       "    <tr>\n",
       "      <th>mean</th>\n",
       "      <td>550037.873084</td>\n",
       "      <td>2017.500000</td>\n",
       "      <td>6.500000</td>\n",
       "      <td>4.115052</td>\n",
       "      <td>1.031805</td>\n",
       "      <td>5.146858</td>\n",
       "      <td>1208.880059</td>\n",
       "      <td>123.692721</td>\n",
       "      <td>30.696872</td>\n",
       "      <td>2.484503</td>\n",
       "    </tr>\n",
       "    <tr>\n",
       "      <th>std</th>\n",
       "      <td>258935.286969</td>\n",
       "      <td>0.500001</td>\n",
       "      <td>3.452057</td>\n",
       "      <td>5.225518</td>\n",
       "      <td>2.076869</td>\n",
       "      <td>6.521227</td>\n",
       "      <td>1433.155320</td>\n",
       "      <td>146.599831</td>\n",
       "      <td>125.486049</td>\n",
       "      <td>10.150038</td>\n",
       "    </tr>\n",
       "    <tr>\n",
       "      <th>min</th>\n",
       "      <td>100018.000000</td>\n",
       "      <td>2017.000000</td>\n",
       "      <td>1.000000</td>\n",
       "      <td>0.000000</td>\n",
       "      <td>0.000000</td>\n",
       "      <td>0.000000</td>\n",
       "      <td>0.000000</td>\n",
       "      <td>0.000000</td>\n",
       "      <td>0.000000</td>\n",
       "      <td>0.000000</td>\n",
       "    </tr>\n",
       "    <tr>\n",
       "      <th>25%</th>\n",
       "      <td>326961.000000</td>\n",
       "      <td>2017.000000</td>\n",
       "      <td>3.750000</td>\n",
       "      <td>0.000000</td>\n",
       "      <td>0.000000</td>\n",
       "      <td>0.000000</td>\n",
       "      <td>0.000000</td>\n",
       "      <td>0.000000</td>\n",
       "      <td>0.000000</td>\n",
       "      <td>0.000000</td>\n",
       "    </tr>\n",
       "    <tr>\n",
       "      <th>50%</th>\n",
       "      <td>550834.000000</td>\n",
       "      <td>2017.500000</td>\n",
       "      <td>6.500000</td>\n",
       "      <td>1.000000</td>\n",
       "      <td>0.000000</td>\n",
       "      <td>1.000000</td>\n",
       "      <td>488.000000</td>\n",
       "      <td>50.000000</td>\n",
       "      <td>0.000000</td>\n",
       "      <td>0.000000</td>\n",
       "    </tr>\n",
       "    <tr>\n",
       "      <th>75%</th>\n",
       "      <td>772194.000000</td>\n",
       "      <td>2018.000000</td>\n",
       "      <td>9.250000</td>\n",
       "      <td>8.000000</td>\n",
       "      <td>1.000000</td>\n",
       "      <td>10.000000</td>\n",
       "      <td>2336.000000</td>\n",
       "      <td>239.000000</td>\n",
       "      <td>0.000000</td>\n",
       "      <td>0.000000</td>\n",
       "    </tr>\n",
       "    <tr>\n",
       "      <th>max</th>\n",
       "      <td>999986.000000</td>\n",
       "      <td>2018.000000</td>\n",
       "      <td>12.000000</td>\n",
       "      <td>21.000000</td>\n",
       "      <td>11.000000</td>\n",
       "      <td>32.000000</td>\n",
       "      <td>6293.000000</td>\n",
       "      <td>676.500000</td>\n",
       "      <td>876.000000</td>\n",
       "      <td>71.000000</td>\n",
       "    </tr>\n",
       "  </tbody>\n",
       "</table>\n",
       "</div>"
      ],
      "text/plain": [
       "       loyalty_number           year          month  flights_booked  \\\n",
       "count   405624.000000  405624.000000  405624.000000   405624.000000   \n",
       "mean    550037.873084    2017.500000       6.500000        4.115052   \n",
       "std     258935.286969       0.500001       3.452057        5.225518   \n",
       "min     100018.000000    2017.000000       1.000000        0.000000   \n",
       "25%     326961.000000    2017.000000       3.750000        0.000000   \n",
       "50%     550834.000000    2017.500000       6.500000        1.000000   \n",
       "75%     772194.000000    2018.000000       9.250000        8.000000   \n",
       "max     999986.000000    2018.000000      12.000000       21.000000   \n",
       "\n",
       "       flights_with_companions  total_flights       distance  \\\n",
       "count            405624.000000  405624.000000  405624.000000   \n",
       "mean                  1.031805       5.146858    1208.880059   \n",
       "std                   2.076869       6.521227    1433.155320   \n",
       "min                   0.000000       0.000000       0.000000   \n",
       "25%                   0.000000       0.000000       0.000000   \n",
       "50%                   0.000000       1.000000     488.000000   \n",
       "75%                   1.000000      10.000000    2336.000000   \n",
       "max                  11.000000      32.000000    6293.000000   \n",
       "\n",
       "       points_accumulated  points_redeemed  dollar_cost_points_redeemed  \n",
       "count       405624.000000    405624.000000                405624.000000  \n",
       "mean           123.692721        30.696872                     2.484503  \n",
       "std            146.599831       125.486049                    10.150038  \n",
       "min              0.000000         0.000000                     0.000000  \n",
       "25%              0.000000         0.000000                     0.000000  \n",
       "50%             50.000000         0.000000                     0.000000  \n",
       "75%            239.000000         0.000000                     0.000000  \n",
       "max            676.500000       876.000000                    71.000000  "
      ]
     },
     "execution_count": 522,
     "metadata": {},
     "output_type": "execute_result"
    }
   ],
   "source": [
    "df_flight_clean.describe() #para ver los rangos y el resumen estadistico. "
   ]
  },
  {
   "cell_type": "markdown",
   "id": "d774da56",
   "metadata": {},
   "source": [
    "El análisis del describe() muestra que las variables temporales (year, month) son correctas y abarcan de 2016 a 2018, mientras que en varias columnas aparecen muchos valores en cero que reflejan clientes inactivos. La mayoría de los clientes reserva pocos vuelos, viaja solo y acumula o canjea pocos puntos, aunque existen outliers como clientes con más de 20 reservas, hasta 11 acompañantes, distancias de más de 6.000 y redenciones o acumulaciones de puntos muy altas; estos valores no parecen errores, sino casos de clientes muy activos, pero conviene tenerlos en cuenta porque afectan a medias y dispersión en los análisis."
   ]
  },
  {
   "cell_type": "markdown",
   "id": "6461126f",
   "metadata": {},
   "source": [
    "\n",
    "\n",
    "\n",
    "### Customer Flight Analysis.csv\n",
    "**Loyalty Number:** Este atributo representa un identificador único para cada cliente dentro del programa de lealtad de la aerolínea. Cada número de lealtad corresponde a un cliente específico.\n",
    "- **Year:** Indica el año en el cual se registraron las actividades de vuelo para el cliente.\n",
    "- **Month:** Representa el mes del año (de 1 a 12) en el cual ocurrieron las actividades de vuelo.\n",
    "- **Flights Booked:** Número total de vuelos reservados por el cliente en ese mes específico.\n",
    "- **Flights with Companions:** Número de vuelos reservados en los cuales el cliente viajó con acompañantes.\n",
    "- **Total Flights:** El número total de vuelos que el cliente ha realizado.\n",
    "- **Distance:** La distancia total (presumiblemente en millas o kilómetros) que el cliente ha volado durante el mes.\n",
    "- **Points Accumulated:** Puntos acumulados por el cliente en el programa de lealtad durante el mes, con base en la distancia volada u otros factores.\n",
    "- **Points Redeemed:** Puntos que el cliente ha canjeado en el mes, posiblemente para obtener beneficios como vuelos gratis, mejoras, etc.\n",
    "- **Dollar Cost Points Redeemed:** El valor en dólares de los puntos que el cliente ha redimido durante el mes.\n",
    "\n",
    " \n"
   ]
  },
  {
   "cell_type": "code",
   "execution_count": 523,
   "id": "f56ca663",
   "metadata": {},
   "outputs": [
    {
     "data": {
      "text/html": [
       "<div>\n",
       "<style scoped>\n",
       "    .dataframe tbody tr th:only-of-type {\n",
       "        vertical-align: middle;\n",
       "    }\n",
       "\n",
       "    .dataframe tbody tr th {\n",
       "        vertical-align: top;\n",
       "    }\n",
       "\n",
       "    .dataframe thead th {\n",
       "        text-align: right;\n",
       "    }\n",
       "</style>\n",
       "<table border=\"1\" class=\"dataframe\">\n",
       "  <thead>\n",
       "    <tr style=\"text-align: right;\">\n",
       "      <th></th>\n",
       "      <th>loyalty_number</th>\n",
       "      <th>year</th>\n",
       "      <th>month</th>\n",
       "      <th>flights_booked</th>\n",
       "      <th>flights_with_companions</th>\n",
       "      <th>total_flights</th>\n",
       "      <th>distance</th>\n",
       "      <th>points_accumulated</th>\n",
       "      <th>points_redeemed</th>\n",
       "      <th>dollar_cost_points_redeemed</th>\n",
       "    </tr>\n",
       "  </thead>\n",
       "  <tbody>\n",
       "    <tr>\n",
       "      <th>0</th>\n",
       "      <td>100018</td>\n",
       "      <td>2017</td>\n",
       "      <td>1</td>\n",
       "      <td>3</td>\n",
       "      <td>0</td>\n",
       "      <td>3</td>\n",
       "      <td>1521</td>\n",
       "      <td>152.0</td>\n",
       "      <td>0</td>\n",
       "      <td>0</td>\n",
       "    </tr>\n",
       "    <tr>\n",
       "      <th>1</th>\n",
       "      <td>100102</td>\n",
       "      <td>2017</td>\n",
       "      <td>1</td>\n",
       "      <td>10</td>\n",
       "      <td>4</td>\n",
       "      <td>14</td>\n",
       "      <td>2030</td>\n",
       "      <td>203.0</td>\n",
       "      <td>0</td>\n",
       "      <td>0</td>\n",
       "    </tr>\n",
       "    <tr>\n",
       "      <th>2</th>\n",
       "      <td>100140</td>\n",
       "      <td>2017</td>\n",
       "      <td>1</td>\n",
       "      <td>6</td>\n",
       "      <td>0</td>\n",
       "      <td>6</td>\n",
       "      <td>1200</td>\n",
       "      <td>120.0</td>\n",
       "      <td>0</td>\n",
       "      <td>0</td>\n",
       "    </tr>\n",
       "    <tr>\n",
       "      <th>3</th>\n",
       "      <td>100214</td>\n",
       "      <td>2017</td>\n",
       "      <td>1</td>\n",
       "      <td>0</td>\n",
       "      <td>0</td>\n",
       "      <td>0</td>\n",
       "      <td>0</td>\n",
       "      <td>0.0</td>\n",
       "      <td>0</td>\n",
       "      <td>0</td>\n",
       "    </tr>\n",
       "    <tr>\n",
       "      <th>4</th>\n",
       "      <td>100272</td>\n",
       "      <td>2017</td>\n",
       "      <td>1</td>\n",
       "      <td>0</td>\n",
       "      <td>0</td>\n",
       "      <td>0</td>\n",
       "      <td>0</td>\n",
       "      <td>0.0</td>\n",
       "      <td>0</td>\n",
       "      <td>0</td>\n",
       "    </tr>\n",
       "    <tr>\n",
       "      <th>5</th>\n",
       "      <td>100301</td>\n",
       "      <td>2017</td>\n",
       "      <td>1</td>\n",
       "      <td>0</td>\n",
       "      <td>0</td>\n",
       "      <td>0</td>\n",
       "      <td>0</td>\n",
       "      <td>0.0</td>\n",
       "      <td>0</td>\n",
       "      <td>0</td>\n",
       "    </tr>\n",
       "    <tr>\n",
       "      <th>6</th>\n",
       "      <td>100364</td>\n",
       "      <td>2017</td>\n",
       "      <td>1</td>\n",
       "      <td>0</td>\n",
       "      <td>0</td>\n",
       "      <td>0</td>\n",
       "      <td>0</td>\n",
       "      <td>0.0</td>\n",
       "      <td>0</td>\n",
       "      <td>0</td>\n",
       "    </tr>\n",
       "    <tr>\n",
       "      <th>7</th>\n",
       "      <td>100380</td>\n",
       "      <td>2017</td>\n",
       "      <td>1</td>\n",
       "      <td>0</td>\n",
       "      <td>0</td>\n",
       "      <td>0</td>\n",
       "      <td>0</td>\n",
       "      <td>0.0</td>\n",
       "      <td>0</td>\n",
       "      <td>0</td>\n",
       "    </tr>\n",
       "    <tr>\n",
       "      <th>8</th>\n",
       "      <td>100428</td>\n",
       "      <td>2017</td>\n",
       "      <td>1</td>\n",
       "      <td>6</td>\n",
       "      <td>0</td>\n",
       "      <td>6</td>\n",
       "      <td>606</td>\n",
       "      <td>60.0</td>\n",
       "      <td>0</td>\n",
       "      <td>0</td>\n",
       "    </tr>\n",
       "    <tr>\n",
       "      <th>9</th>\n",
       "      <td>100504</td>\n",
       "      <td>2017</td>\n",
       "      <td>1</td>\n",
       "      <td>0</td>\n",
       "      <td>0</td>\n",
       "      <td>0</td>\n",
       "      <td>0</td>\n",
       "      <td>0.0</td>\n",
       "      <td>0</td>\n",
       "      <td>0</td>\n",
       "    </tr>\n",
       "    <tr>\n",
       "      <th>10</th>\n",
       "      <td>100550</td>\n",
       "      <td>2017</td>\n",
       "      <td>1</td>\n",
       "      <td>3</td>\n",
       "      <td>0</td>\n",
       "      <td>3</td>\n",
       "      <td>2037</td>\n",
       "      <td>203.0</td>\n",
       "      <td>0</td>\n",
       "      <td>0</td>\n",
       "    </tr>\n",
       "    <tr>\n",
       "      <th>11</th>\n",
       "      <td>863070</td>\n",
       "      <td>2017</td>\n",
       "      <td>9</td>\n",
       "      <td>8</td>\n",
       "      <td>7</td>\n",
       "      <td>15</td>\n",
       "      <td>4245</td>\n",
       "      <td>424.0</td>\n",
       "      <td>341</td>\n",
       "      <td>28</td>\n",
       "    </tr>\n",
       "    <tr>\n",
       "      <th>12</th>\n",
       "      <td>100590</td>\n",
       "      <td>2017</td>\n",
       "      <td>1</td>\n",
       "      <td>0</td>\n",
       "      <td>0</td>\n",
       "      <td>0</td>\n",
       "      <td>0</td>\n",
       "      <td>0.0</td>\n",
       "      <td>0</td>\n",
       "      <td>0</td>\n",
       "    </tr>\n",
       "    <tr>\n",
       "      <th>13</th>\n",
       "      <td>100642</td>\n",
       "      <td>2017</td>\n",
       "      <td>1</td>\n",
       "      <td>0</td>\n",
       "      <td>0</td>\n",
       "      <td>0</td>\n",
       "      <td>0</td>\n",
       "      <td>0.0</td>\n",
       "      <td>0</td>\n",
       "      <td>0</td>\n",
       "    </tr>\n",
       "    <tr>\n",
       "      <th>14</th>\n",
       "      <td>100644</td>\n",
       "      <td>2017</td>\n",
       "      <td>1</td>\n",
       "      <td>0</td>\n",
       "      <td>0</td>\n",
       "      <td>0</td>\n",
       "      <td>0</td>\n",
       "      <td>0.0</td>\n",
       "      <td>0</td>\n",
       "      <td>0</td>\n",
       "    </tr>\n",
       "    <tr>\n",
       "      <th>15</th>\n",
       "      <td>100646</td>\n",
       "      <td>2017</td>\n",
       "      <td>1</td>\n",
       "      <td>0</td>\n",
       "      <td>0</td>\n",
       "      <td>0</td>\n",
       "      <td>0</td>\n",
       "      <td>0.0</td>\n",
       "      <td>0</td>\n",
       "      <td>0</td>\n",
       "    </tr>\n",
       "    <tr>\n",
       "      <th>16</th>\n",
       "      <td>100727</td>\n",
       "      <td>2017</td>\n",
       "      <td>1</td>\n",
       "      <td>11</td>\n",
       "      <td>0</td>\n",
       "      <td>11</td>\n",
       "      <td>1144</td>\n",
       "      <td>114.0</td>\n",
       "      <td>0</td>\n",
       "      <td>0</td>\n",
       "    </tr>\n",
       "    <tr>\n",
       "      <th>17</th>\n",
       "      <td>100737</td>\n",
       "      <td>2017</td>\n",
       "      <td>1</td>\n",
       "      <td>0</td>\n",
       "      <td>0</td>\n",
       "      <td>0</td>\n",
       "      <td>0</td>\n",
       "      <td>0.0</td>\n",
       "      <td>0</td>\n",
       "      <td>0</td>\n",
       "    </tr>\n",
       "    <tr>\n",
       "      <th>18</th>\n",
       "      <td>100753</td>\n",
       "      <td>2017</td>\n",
       "      <td>1</td>\n",
       "      <td>8</td>\n",
       "      <td>4</td>\n",
       "      <td>12</td>\n",
       "      <td>3264</td>\n",
       "      <td>326.0</td>\n",
       "      <td>0</td>\n",
       "      <td>0</td>\n",
       "    </tr>\n",
       "    <tr>\n",
       "      <th>19</th>\n",
       "      <td>100816</td>\n",
       "      <td>2017</td>\n",
       "      <td>1</td>\n",
       "      <td>9</td>\n",
       "      <td>1</td>\n",
       "      <td>10</td>\n",
       "      <td>2340</td>\n",
       "      <td>234.0</td>\n",
       "      <td>0</td>\n",
       "      <td>0</td>\n",
       "    </tr>\n",
       "  </tbody>\n",
       "</table>\n",
       "</div>"
      ],
      "text/plain": [
       "    loyalty_number  year  month  flights_booked  flights_with_companions  \\\n",
       "0           100018  2017      1               3                        0   \n",
       "1           100102  2017      1              10                        4   \n",
       "2           100140  2017      1               6                        0   \n",
       "3           100214  2017      1               0                        0   \n",
       "4           100272  2017      1               0                        0   \n",
       "5           100301  2017      1               0                        0   \n",
       "6           100364  2017      1               0                        0   \n",
       "7           100380  2017      1               0                        0   \n",
       "8           100428  2017      1               6                        0   \n",
       "9           100504  2017      1               0                        0   \n",
       "10          100550  2017      1               3                        0   \n",
       "11          863070  2017      9               8                        7   \n",
       "12          100590  2017      1               0                        0   \n",
       "13          100642  2017      1               0                        0   \n",
       "14          100644  2017      1               0                        0   \n",
       "15          100646  2017      1               0                        0   \n",
       "16          100727  2017      1              11                        0   \n",
       "17          100737  2017      1               0                        0   \n",
       "18          100753  2017      1               8                        4   \n",
       "19          100816  2017      1               9                        1   \n",
       "\n",
       "    total_flights  distance  points_accumulated  points_redeemed  \\\n",
       "0               3      1521               152.0                0   \n",
       "1              14      2030               203.0                0   \n",
       "2               6      1200               120.0                0   \n",
       "3               0         0                 0.0                0   \n",
       "4               0         0                 0.0                0   \n",
       "5               0         0                 0.0                0   \n",
       "6               0         0                 0.0                0   \n",
       "7               0         0                 0.0                0   \n",
       "8               6       606                60.0                0   \n",
       "9               0         0                 0.0                0   \n",
       "10              3      2037               203.0                0   \n",
       "11             15      4245               424.0              341   \n",
       "12              0         0                 0.0                0   \n",
       "13              0         0                 0.0                0   \n",
       "14              0         0                 0.0                0   \n",
       "15              0         0                 0.0                0   \n",
       "16             11      1144               114.0                0   \n",
       "17              0         0                 0.0                0   \n",
       "18             12      3264               326.0                0   \n",
       "19             10      2340               234.0                0   \n",
       "\n",
       "    dollar_cost_points_redeemed  \n",
       "0                             0  \n",
       "1                             0  \n",
       "2                             0  \n",
       "3                             0  \n",
       "4                             0  \n",
       "5                             0  \n",
       "6                             0  \n",
       "7                             0  \n",
       "8                             0  \n",
       "9                             0  \n",
       "10                            0  \n",
       "11                           28  \n",
       "12                            0  \n",
       "13                            0  \n",
       "14                            0  \n",
       "15                            0  \n",
       "16                            0  \n",
       "17                            0  \n",
       "18                            0  \n",
       "19                            0  "
      ]
     },
     "execution_count": 523,
     "metadata": {},
     "output_type": "execute_result"
    }
   ],
   "source": [
    "df_flight_clean.head(20)#Para echar un vistazo rapido a los datos,devuelve por defecto 5 filas."
   ]
  },
  {
   "cell_type": "markdown",
   "id": "0f54543a",
   "metadata": {},
   "source": [
    "El preEDA da duplicados asi que sospecho que la clave primaria del cliente (\"loyalty_number\") no esta siendo unica. Los datos muestran muchos cero vuelos en varios periodos, lo que indica inactividad frecuente, mientras que otros acumulan puntos en función de la distancia recorrida. La variable (points_accumulated) presenta valores altos en comparación con (points_redeemed), confirmando que la mayoría de los clientes no canjea puntos y solo unos pocos generan costes en dólares. Además, se observa que la columna total_flights es coherente con la suma de vuelos reservados y vuelos con acompañantes lo que respalda la consistencia de los datos."
   ]
  },
  {
   "cell_type": "code",
   "execution_count": 524,
   "id": "710ca2b8",
   "metadata": {},
   "outputs": [
    {
     "name": "stdout",
     "output_type": "stream",
     "text": [
      "Nulos en loyalty_number: 0\n",
      "Clientes únicos: 16737\n",
      "Total de registros: 405624\n"
     ]
    }
   ],
   "source": [
    "print(\"Nulos en loyalty_number:\", df_flight_clean[\"loyalty_number\"].isnull().sum())\n",
    "print(\"Clientes únicos:\", df_flight_clean[\"loyalty_number\"].nunique())\n",
    "print(\"Total de registros:\", len(df_flight_clean))\n"
   ]
  },
  {
   "cell_type": "markdown",
   "id": "db11998c",
   "metadata": {},
   "source": [
    "Comparo las columnas (loyalty_number,\"year\",\"month\") .Necesitaba comprobar si se trataba de registros repetidos o de múltiples actividades del mismo cliente en distintos periodos de tiempo."
   ]
  },
  {
   "cell_type": "code",
   "execution_count": 525,
   "id": "a89989d2",
   "metadata": {},
   "outputs": [
    {
     "name": "stdout",
     "output_type": "stream",
     "text": [
      "[2017 2018]\n",
      "[ 1  9  2  3 11  4  5  7  6  8 10 12]\n"
     ]
    }
   ],
   "source": [
    "print(df_flight_clean[\"year\"].unique()) #Los años que cubre el dataset son dos y todos los meses del año. \n",
    "print(df_flight_clean[\"month\"].unique())\n"
   ]
  },
  {
   "cell_type": "code",
   "execution_count": 526,
   "id": "a04ddd01",
   "metadata": {},
   "outputs": [
    {
     "name": "stdout",
     "output_type": "stream",
     "text": [
      "Duplicados cliente/año/mes: 3936\n",
      "count    16737.000000\n",
      "mean        24.235168\n",
      "std          2.378631\n",
      "min         24.000000\n",
      "25%         24.000000\n",
      "50%         24.000000\n",
      "75%         24.000000\n",
      "max         72.000000\n",
      "Name: count, dtype: float64\n"
     ]
    }
   ],
   "source": [
    "duplicados = df_flight_clean.duplicated(subset=[\"loyalty_number\",\"year\",\"month\"]).sum()\n",
    "print(\"Duplicados cliente/año/mes:\", duplicados)\n",
    "\n",
    "# registros por cliente\n",
    "print(df_flight_clean[\"loyalty_number\"].value_counts().describe())# esto confirma que cada cliente aparece en varias veces\n"
   ]
  },
  {
   "cell_type": "markdown",
   "id": "fc1d3d1e",
   "metadata": {},
   "source": [
    "La mayoría de los clientes tiene 24 registros (uno por mes en los dos años analizados). Sin embargo, existen casos con más de 24 registros por cliente (hasta 72), lo que indica entradas duplicadas de un mismo cliente en ciertos meses y no errores de clave primaria."
   ]
  },
  {
   "cell_type": "code",
   "execution_count": 527,
   "id": "88ee7ed6",
   "metadata": {},
   "outputs": [
    {
     "name": "stdout",
     "output_type": "stream",
     "text": [
      "     loyalty_number  year  month  flights_booked  flights_with_companions  \\\n",
      "41           101902  2017      1               0                        0   \n",
      "42           101902  2017      1               0                        0   \n",
      "114          106001  2017      1               9                        4   \n",
      "115          106001  2017      1               5                        0   \n",
      "226          112142  2017      1               0                        0   \n",
      "227          112142  2017      1               0                        0   \n",
      "275          114414  2017      1               8                        4   \n",
      "276          114414  2017      1               1                        1   \n",
      "477          126100  2017      1               0                        0   \n",
      "478          126100  2017      1               0                        0   \n",
      "\n",
      "     total_flights  distance  points_accumulated  points_redeemed  \\\n",
      "41               0         0                 0.0                0   \n",
      "42               0         0                 0.0                0   \n",
      "114             13      1365               136.0                0   \n",
      "115              5       910                91.0                0   \n",
      "226              0         0                 0.0                0   \n",
      "227              0         0                 0.0                0   \n",
      "275             12      3132               313.0                0   \n",
      "276              2      1094               109.0                0   \n",
      "477              0         0                 0.0                0   \n",
      "478              0         0                 0.0                0   \n",
      "\n",
      "     dollar_cost_points_redeemed  \n",
      "41                             0  \n",
      "42                             0  \n",
      "114                            0  \n",
      "115                            0  \n",
      "226                            0  \n",
      "227                            0  \n",
      "275                            0  \n",
      "276                            0  \n",
      "477                            0  \n",
      "478                            0  \n"
     ]
    }
   ],
   "source": [
    "\n",
    "duplicados_rows = df_flight_clean[df_flight_clean.duplicated(subset=[\"loyalty_number\", \"year\", \"month\"], keep=False)]\n",
    "\n",
    "# Ver los primeros duplicados\n",
    "print(duplicados_rows.head(10))\n"
   ]
  },
  {
   "cell_type": "markdown",
   "id": "5aaa5bb9",
   "metadata": {},
   "source": [
    "(loyalty_number)\n",
    "Un mismo cliente aparece varias veces en el mismo año y el mismo mes.\n",
    "Pero las otras columnas (flights_booked, distance, etc.) tienen valores distintos en cada fila.\n",
    "Es decir no son duplicados iguales (no es un error de duplicado).\n",
    "Son registros distintos del mismo cliente en el mismo mes (quizá viajó varias veces).\n",
    "Entonces:\n",
    "No se pueden borrar, porque perdería información."
   ]
  },
  {
   "cell_type": "code",
   "execution_count": 528,
   "id": "edc73e77",
   "metadata": {},
   "outputs": [
    {
     "name": "stdout",
     "output_type": "stream",
     "text": [
      "\n",
      "== FLIGHT_GROUPED ==\n",
      "shape: (401688, 10)\n",
      "\n",
      "tipos:\n",
      "loyalty_number                   int64\n",
      "year                             int64\n",
      "month                            int64\n",
      "flights_booked                   int64\n",
      "flights_with_companions          int64\n",
      "total_flights                    int64\n",
      "distance                         int64\n",
      "points_accumulated             float64\n",
      "points_redeemed                  int64\n",
      "dollar_cost_points_redeemed      int64\n",
      "Nulos por columna:\n",
      "loyalty_number                 0\n",
      "year                           0\n",
      "month                          0\n",
      "flights_booked                 0\n",
      "flights_with_companions        0\n",
      "total_flights                  0\n",
      "distance                       0\n",
      "points_accumulated             0\n",
      "points_redeemed                0\n",
      "dollar_cost_points_redeemed    0\n",
      "\n",
      "Duplicados totales: 0\n"
     ]
    }
   ],
   "source": [
    "# 1) Agrupa por cliente/año/mes\n",
    "df_flight_grouped = (#ahora loyalty number es una PK compuesta.\n",
    "    df_flight_clean\n",
    "        .groupby([\"loyalty_number\", \"year\", \"month\"], as_index=False) #escribir por que agrupe y que se cambia el nombre del data frame porque ahora hay dos.\n",
    "        .sum(numeric_only=True)\n",
    ")\n",
    "\n",
    "# 2) Pasa el PRE-EDA sobre el AGRUPADO (no sobre df_flight)\n",
    "df_flight_grouped = pre_eda(df_flight_grouped, \"flight_grouped\")\n",
    "\n"
   ]
  },
  {
   "cell_type": "markdown",
   "id": "729b3352",
   "metadata": {},
   "source": [
    "La columna loyalty_number funciona como identificador de cliente. Combinada con year y month forma la clave primaria del dataset agrupado. No tiene nulos ni duplicados, y está en formato int64, por lo que no requiere limpieza adicional.\n",
    "El DataFrame original contenía varios registros de un mismo cliente dentro del mismo año y mes, por lo que lo agrupé por cliente/año/mes para consolidar la información y evitar duplicaciones en los análisis. A partir de esta agrupación generé un nuevo DataFrame llamado df_flight_grouped, distinto al DataFrame original, de manera que trabajo con ambos según convenga: el inicial conserva el detalle de cada vuelo, mientras que el agrupado resume la actividad mensual de cada cliente y facilita el análisis exploratorio."
   ]
  },
  {
   "cell_type": "code",
   "execution_count": 529,
   "id": "1a0b63ba",
   "metadata": {},
   "outputs": [
    {
     "name": "stdout",
     "output_type": "stream",
     "text": [
      "Nulos en loyalty_number: 0\n",
      "Clientes únicos: 16737\n",
      "Total de registros: 401688\n"
     ]
    }
   ],
   "source": [
    "print(\"Nulos en loyalty_number:\", df_flight_grouped[\"loyalty_number\"].isnull().sum())\n",
    "print(\"Clientes únicos:\", df_flight_grouped[\"loyalty_number\"].nunique())\n",
    "print(\"Total de registros:\", len(df_flight_grouped))# esto confirma que cada cliente aparece en varias filas\n"
   ]
  },
  {
   "cell_type": "code",
   "execution_count": 530,
   "id": "76eb0606",
   "metadata": {},
   "outputs": [
    {
     "name": "stdout",
     "output_type": "stream",
     "text": [
      "Nulos en year: 0\n",
      "Valores únicos en year: [np.int64(2017), np.int64(2018)]\n",
      "Mínimo: 2017 Máximo: 2018\n"
     ]
    }
   ],
   "source": [
    "# Revisar nulos en year\n",
    "print(\"Nulos en year:\", df_flight_grouped[\"year\"].isnull().sum())\n",
    "\n",
    "# Valores únicos ordenados\n",
    "print(\"Valores únicos en year:\", sorted(df_flight_grouped[\"year\"].unique()))\n",
    "\n",
    "# Rango de años\n",
    "print(\"Mínimo:\", df_flight_grouped[\"year\"].min(), \n",
    "      \"Máximo:\", df_flight_grouped[\"year\"].max())\n"
   ]
  },
  {
   "cell_type": "markdown",
   "id": "7fc6840e",
   "metadata": {},
   "source": [
    "La columna year está completa, sin nulos ni valores inconsistentes. Solo incluye los años 2017 y 2018, lo cual es coherente con el periodo temporal del dataset. No necesita limpieza adicional."
   ]
  },
  {
   "cell_type": "code",
   "execution_count": 531,
   "id": "7762097e",
   "metadata": {},
   "outputs": [
    {
     "name": "stdout",
     "output_type": "stream",
     "text": [
      "Nulos en month: 0\n",
      "Valores únicos en month: [np.int64(1), np.int64(2), np.int64(3), np.int64(4), np.int64(5), np.int64(6), np.int64(7), np.int64(8), np.int64(9), np.int64(10), np.int64(11), np.int64(12)]\n",
      "Mínimo: 1 Máximo: 12\n"
     ]
    }
   ],
   "source": [
    "# Revisar nulos en month\n",
    "print(\"Nulos en month:\", df_flight_grouped[\"month\"].isnull().sum())\n",
    "\n",
    "# Valores únicos ordenados\n",
    "print(\"Valores únicos en month:\", sorted(df_flight_grouped[\"month\"].unique()))\n",
    "\n",
    "# Rango de meses\n",
    "print(\"Mínimo:\", df_flight_grouped[\"month\"].min(), \n",
    "      \"Máximo:\", df_flight_grouped[\"month\"].max())\n"
   ]
  },
  {
   "cell_type": "markdown",
   "id": "b0f2558e",
   "metadata": {},
   "source": [
    "La columna month está completa, sin nulos ni valores atípicos. Los valores van de 1 a 12, lo que corresponde correctamente a los meses del año. No requiere limpieza adicional."
   ]
  },
  {
   "cell_type": "code",
   "execution_count": 532,
   "id": "9dacdc0f",
   "metadata": {},
   "outputs": [],
   "source": [
    "def revisar_columna(df, col): #una funcion con la revision basica para simplemente llamar desde la conlumna\n",
    "    \"\"\"Revisa una columna: nulos, negativos y estadísticas básicas\"\"\"\n",
    "    print(f\"--- Revisión de {col} ---\")\n",
    "    print(\"Nulos:\", df[col].isnull().sum())\n",
    "    print(\"Negativos:\", (df[col] < 0).sum())\n",
    "    print(\"Estadísticas básicas:\")\n",
    "    print(df[col].describe())\n",
    "    print(\"\\n\")  # salto de línea para separar"
   ]
  },
  {
   "cell_type": "code",
   "execution_count": 533,
   "id": "722d0b3d",
   "metadata": {},
   "outputs": [
    {
     "name": "stdout",
     "output_type": "stream",
     "text": [
      "--- Revisión de flights_booked ---\n",
      "Nulos: 0\n",
      "Negativos: 0\n",
      "Estadísticas básicas:\n",
      "count    401688.000000\n",
      "mean          4.155374\n",
      "std           5.269271\n",
      "min           0.000000\n",
      "25%           0.000000\n",
      "50%           1.000000\n",
      "75%           8.000000\n",
      "max          39.000000\n",
      "Name: flights_booked, dtype: float64\n",
      "\n",
      "\n"
     ]
    }
   ],
   "source": [
    "revisar_columna(df_flight_grouped, \"flights_booked\")\n"
   ]
  },
  {
   "cell_type": "markdown",
   "id": "0871789b",
   "metadata": {},
   "source": [
    "La columna flights_booked no presenta valores nulos ni negativos. Los valores van de 0 a 39, lo cual refleja la cantidad de vuelos reservados en un mes por cliente. La distribución es razonable: la mayoría reserva entre 2 y 5 vuelos al mes, aunque existen clientes con valores más altos (hasta 39), que se interpretan como clientes muy frecuentes. No requiere limpieza adicional."
   ]
  },
  {
   "cell_type": "code",
   "execution_count": 534,
   "id": "4bf536af",
   "metadata": {},
   "outputs": [
    {
     "name": "stdout",
     "output_type": "stream",
     "text": [
      "--- Revisión de flights_with_companions ---\n",
      "Nulos: 0\n",
      "Negativos: 0\n",
      "Estadísticas básicas:\n",
      "count    401688.000000\n",
      "mean          1.041916\n",
      "std           2.090835\n",
      "min           0.000000\n",
      "25%           0.000000\n",
      "50%           0.000000\n",
      "75%           1.000000\n",
      "max          20.000000\n",
      "Name: flights_with_companions, dtype: float64\n",
      "\n",
      "\n"
     ]
    }
   ],
   "source": [
    "revisar_columna(df_flight_grouped, \"flights_with_companions\")\n"
   ]
  },
  {
   "cell_type": "markdown",
   "id": "fd7a9761",
   "metadata": {},
   "source": [
    "La columna flights_with_companions no presenta valores nulos ni negativos. Los valores van de 0 a 20, lo que refleja cuántos vuelos realizó el cliente acompañado en un mes. La mayoría de clientes viaja solo, pero algunos registran vuelos con varios acompañantes (outliers hasta 20). No se requiere limpieza adicional, aunque conviene tener en cuenta este sesgo en los análisis."
   ]
  },
  {
   "cell_type": "code",
   "execution_count": 535,
   "id": "5e01e3b9",
   "metadata": {},
   "outputs": [],
   "source": [
    "#Añadí una columna llamada Date   \n",
    "df_flight_grouped[\"date\"] = pd.to_datetime({\n",
    "    \"year\":  df_flight_grouped[\"year\"],\n",
    "    \"month\": df_flight_grouped[\"month\"],\n",
    "    \"day\":   1\n",
    "})\n"
   ]
  },
  {
   "cell_type": "code",
   "execution_count": 536,
   "id": "0f7698c3",
   "metadata": {},
   "outputs": [
    {
     "data": {
      "text/html": [
       "<div>\n",
       "<style scoped>\n",
       "    .dataframe tbody tr th:only-of-type {\n",
       "        vertical-align: middle;\n",
       "    }\n",
       "\n",
       "    .dataframe tbody tr th {\n",
       "        vertical-align: top;\n",
       "    }\n",
       "\n",
       "    .dataframe thead th {\n",
       "        text-align: right;\n",
       "    }\n",
       "</style>\n",
       "<table border=\"1\" class=\"dataframe\">\n",
       "  <thead>\n",
       "    <tr style=\"text-align: right;\">\n",
       "      <th></th>\n",
       "      <th>year</th>\n",
       "      <th>month</th>\n",
       "      <th>date</th>\n",
       "    </tr>\n",
       "  </thead>\n",
       "  <tbody>\n",
       "    <tr>\n",
       "      <th>0</th>\n",
       "      <td>2017</td>\n",
       "      <td>1</td>\n",
       "      <td>2017-01-01</td>\n",
       "    </tr>\n",
       "    <tr>\n",
       "      <th>1</th>\n",
       "      <td>2017</td>\n",
       "      <td>2</td>\n",
       "      <td>2017-02-01</td>\n",
       "    </tr>\n",
       "    <tr>\n",
       "      <th>2</th>\n",
       "      <td>2017</td>\n",
       "      <td>3</td>\n",
       "      <td>2017-03-01</td>\n",
       "    </tr>\n",
       "    <tr>\n",
       "      <th>3</th>\n",
       "      <td>2017</td>\n",
       "      <td>4</td>\n",
       "      <td>2017-04-01</td>\n",
       "    </tr>\n",
       "    <tr>\n",
       "      <th>4</th>\n",
       "      <td>2017</td>\n",
       "      <td>5</td>\n",
       "      <td>2017-05-01</td>\n",
       "    </tr>\n",
       "  </tbody>\n",
       "</table>\n",
       "</div>"
      ],
      "text/plain": [
       "   year  month       date\n",
       "0  2017      1 2017-01-01\n",
       "1  2017      2 2017-02-01\n",
       "2  2017      3 2017-03-01\n",
       "3  2017      4 2017-04-01\n",
       "4  2017      5 2017-05-01"
      ]
     },
     "execution_count": 536,
     "metadata": {},
     "output_type": "execute_result"
    }
   ],
   "source": [
    "df_flight_grouped[[\"year\",\"month\",\"date\"]].head()"
   ]
  },
  {
   "cell_type": "markdown",
   "id": "0c4f7603",
   "metadata": {},
   "source": [
    "Se añadió la columna Date en formato datetime64 a partir de las columnas Year y Month para disponer de una variable temporal completa que permita ordenar cronológicamente, calcular diferencias de tiempo y aplicar funciones de fechas. De este modo se conservan Year y Month como enteros para agrupaciones simples, pero la columna Date ofrece mayor flexibilidad y precisión en los análisis temporales."
   ]
  },
  {
   "cell_type": "code",
   "execution_count": 537,
   "id": "084da60c",
   "metadata": {},
   "outputs": [
    {
     "name": "stdout",
     "output_type": "stream",
     "text": [
      "--- Revisión de total_flights ---\n",
      "Nulos: 0\n",
      "Negativos: 0\n",
      "Estadísticas básicas:\n",
      "count    401688.000000\n",
      "mean          5.197290\n",
      "std           6.576952\n",
      "min           0.000000\n",
      "25%           0.000000\n",
      "50%           1.000000\n",
      "75%          10.000000\n",
      "max          57.000000\n",
      "Name: total_flights, dtype: float64\n",
      "\n",
      "\n"
     ]
    }
   ],
   "source": [
    "revisar_columna(df_flight_grouped, \"total_flights\")"
   ]
  },
  {
   "cell_type": "markdown",
   "id": "901eb45f",
   "metadata": {},
   "source": [
    "La variable total_flights incluye 401 688 registros completos y sin valores negativos. La media es 5,2 vuelos por cliente-mes, pero la mediana de 1 evidencia una fuerte asimetría a la derecha. Un 25 % de clientes no vuela en el periodo, el 75 % realiza como máximo 10 vuelos y existen valores extremos de hasta 57.Aunque 57 no es un error obvio, puede considerarse un outlier que merece atención si el análisis requiere modelos sensibles a valores atípicos. Esto refleja que la mayoría viaja poco y una minoría muy reducida concentra un número alto de vuelos."
   ]
  },
  {
   "cell_type": "code",
   "execution_count": 538,
   "id": "ef75ca1c",
   "metadata": {},
   "outputs": [
    {
     "name": "stdout",
     "output_type": "stream",
     "text": [
      "--- Revisión de distance ---\n",
      "Nulos: 0\n",
      "Negativos: 0\n",
      "Estadísticas básicas:\n",
      "count    401688.000000\n",
      "mean       1220.725451\n",
      "std        1446.440549\n",
      "min           0.000000\n",
      "25%           0.000000\n",
      "50%         524.000000\n",
      "75%        2352.000000\n",
      "max       11244.000000\n",
      "Name: distance, dtype: float64\n",
      "\n",
      "\n"
     ]
    }
   ],
   "source": [
    "revisar_columna(df_flight_grouped, \"distance\")\n",
    "\n"
   ]
  },
  {
   "cell_type": "markdown",
   "id": "6a049d73",
   "metadata": {},
   "source": [
    "La variable distance tiene 401 688 registros, sin nulos ni negativos. La media es 1 223 km pero la mediana de 624 km revela asimetría positiva. El 25 % de los registros marca 0 km (posibles reservas sin vuelo o incidencias), el 75 % no supera 2 352 km y se detectan máximos de 11 242 km correspondientes a trayectos intercontinentales. La distribución está muy sesgada a la derecha, con valores extremos plausibles según el contexto. No requiere limpieza obligatoria, aunque conviene documentar ceros y outliers."
   ]
  },
  {
   "cell_type": "code",
   "execution_count": 539,
   "id": "7d0afa29",
   "metadata": {},
   "outputs": [
    {
     "name": "stdout",
     "output_type": "stream",
     "text": [
      "--- Revisión de points_accumulated ---\n",
      "Nulos: 0\n",
      "Negativos: 0\n",
      "Estadísticas básicas:\n",
      "count    401688.000000\n",
      "mean        124.904743\n",
      "std         147.982107\n",
      "min           0.000000\n",
      "25%           0.000000\n",
      "50%          53.000000\n",
      "75%         240.000000\n",
      "max        1216.500000\n",
      "Name: points_accumulated, dtype: float64\n",
      "\n",
      "\n"
     ]
    }
   ],
   "source": [
    "revisar_columna(df_flight_grouped, \"points_accumulated\")\n"
   ]
  },
  {
   "cell_type": "markdown",
   "id": "65b78eda",
   "metadata": {},
   "source": [
    "La variable points_accumulated no presenta nulos ni negativos. La media es de 125 puntos, pero la mediana de 53 confirma que la distribución es asimétrica a la derecha. El 25 % de los clientes no acumula puntos, el 75 % llega hasta 240 y los máximos superan los 1200. Esto indica que la mayoría de clientes genera pocos puntos, mientras una minoría concentra valores muy altos que corresponden a los usuarios más fieles o de mayor actividad."
   ]
  },
  {
   "cell_type": "code",
   "execution_count": 540,
   "id": "fd289f6f",
   "metadata": {},
   "outputs": [
    {
     "name": "stdout",
     "output_type": "stream",
     "text": [
      "--- Revisión de points_redeemed ---\n",
      "Nulos: 0\n",
      "Negativos: 0\n",
      "Estadísticas básicas:\n",
      "count    401688.000000\n",
      "mean         30.997660\n",
      "std         126.104987\n",
      "min           0.000000\n",
      "25%           0.000000\n",
      "50%           0.000000\n",
      "75%           0.000000\n",
      "max         996.000000\n",
      "Name: points_redeemed, dtype: float64\n",
      "\n",
      "\n"
     ]
    }
   ],
   "source": [
    "revisar_columna(df_flight_grouped, \"points_redeemed\")\n"
   ]
  },
  {
   "cell_type": "markdown",
   "id": "78a32403",
   "metadata": {},
   "source": [
    "La variable points_redeemed no presenta nulos ni negativos. La media es de 31 puntos, pero tanto la mediana como los cuartiles son 0, lo que indica que la gran mayoría de clientes no canjea puntos. Únicamente unos pocos casos alcanzan valores altos, hasta 996, que actúan como outliers y elevan la media. En conclusión, el canje de puntos es poco frecuente y está concentrado en una minoría de usuarios, coherente con el comportamiento de clientes más fieles."
   ]
  },
  {
   "cell_type": "code",
   "execution_count": 541,
   "id": "2355050d",
   "metadata": {},
   "outputs": [
    {
     "name": "stdout",
     "output_type": "stream",
     "text": [
      "--- Revisión de dollar_cost_points_redeemed ---\n",
      "Nulos: 0\n",
      "Negativos: 0\n",
      "Estadísticas básicas:\n",
      "count    401688.000000\n",
      "mean          2.508848\n",
      "std          10.200090\n",
      "min           0.000000\n",
      "25%           0.000000\n",
      "50%           0.000000\n",
      "75%           0.000000\n",
      "max          80.000000\n",
      "Name: dollar_cost_points_redeemed, dtype: float64\n",
      "\n",
      "\n"
     ]
    }
   ],
   "source": [
    "revisar_columna(df_flight_grouped, \"dollar_cost_points_redeemed\")\n",
    "\n"
   ]
  },
  {
   "cell_type": "markdown",
   "id": "48c1c235",
   "metadata": {},
   "source": [
    "La variable dollar_cost_points_redeemed no presenta nulos ni negativos. La media es 2,5 dólares, pero tanto la mediana como los cuartiles son 0, lo que indica que la gran mayoría de clientes no genera gasto por canje de puntos. Solo una minoría alcanza valores elevados (hasta 80 dólares), que actúan como outliers y elevan la media. La distribución está muy sesgada a la derecha, con pocos casos relevantes y la mayoría en cero."
   ]
  },
  {
   "cell_type": "markdown",
   "id": "08c947e4",
   "metadata": {},
   "source": [
    "analizar redundancias entre columnas.\n",
    "Al detectar tres variables relacionadas, deduje que total_flights podía ser la suma de flights_booked y flights_with_companions."
   ]
  },
  {
   "cell_type": "code",
   "execution_count": 542,
   "id": "eadca43f",
   "metadata": {},
   "outputs": [
    {
     "name": "stdout",
     "output_type": "stream",
     "text": [
      "401688 de 401688\n"
     ]
    }
   ],
   "source": [
    "check = df_flight_grouped[\"total_flights\"] == ( #compruebo los registros de las variables y son iguales\n",
    "    df_flight_grouped[\"flights_booked\"] + df_flight_grouped[\"flights_with_companions\"]\n",
    ")\n",
    "print(check.sum(), \"de\", len(check))\n"
   ]
  },
  {
   "cell_type": "markdown",
   "id": "58d99bc9",
   "metadata": {},
   "source": [
    "Comprobando la igualdad entre ellas y se verificó en el 100% de los registros. Por tanto, total_flights es redundante y lo eliminé."
   ]
  },
  {
   "cell_type": "code",
   "execution_count": 543,
   "id": "10f39cff",
   "metadata": {},
   "outputs": [
    {
     "name": "stdout",
     "output_type": "stream",
     "text": [
      "Index(['loyalty_number', 'year', 'month', 'flights_booked',\n",
      "       'flights_with_companions', 'distance', 'points_accumulated',\n",
      "       'points_redeemed', 'dollar_cost_points_redeemed', 'date'],\n",
      "      dtype='object')\n"
     ]
    }
   ],
   "source": [
    "# Eliminar columna redundante\n",
    "df_flight_grouped = df_flight_grouped.drop(columns=[\"total_flights\"])\n",
    "\n",
    "# Verificar que ya no existe\n",
    "print(df_flight_grouped.columns)\n"
   ]
  },
  {
   "cell_type": "code",
   "execution_count": null,
   "id": "12a31a9d",
   "metadata": {},
   "outputs": [],
   "source": []
  },
  {
   "cell_type": "code",
   "execution_count": 544,
   "id": "3efb5b58",
   "metadata": {},
   "outputs": [
    {
     "name": "stdout",
     "output_type": "stream",
     "text": [
      "\n",
      "== LOYALTY ==\n",
      "shape: (16737, 16)\n",
      "\n",
      "tipos:\n",
      "loyalty_number          int64\n",
      "country                object\n",
      "province               object\n",
      "city                   object\n",
      "postal_code            object\n",
      "gender                 object\n",
      "education              object\n",
      "salary                float64\n",
      "marital_status         object\n",
      "loyalty_card           object\n",
      "clv                   float64\n",
      "enrollment_type        object\n",
      "enrollment_year         int64\n",
      "enrollment_month        int64\n",
      "cancellation_year     float64\n",
      "cancellation_month    float64\n",
      "Nulos por columna:\n",
      "cancellation_month    14670\n",
      "cancellation_year     14670\n",
      "salary                 4238\n",
      "loyalty_number            0\n",
      "city                      0\n",
      "postal_code               0\n",
      "province                  0\n",
      "country                   0\n",
      "education                 0\n",
      "gender                    0\n",
      "marital_status            0\n",
      "loyalty_card              0\n",
      "enrollment_type           0\n",
      "clv                       0\n",
      "enrollment_month          0\n",
      "enrollment_year           0\n",
      "\n",
      "Duplicados totales: 0\n"
     ]
    }
   ],
   "source": [
    "# Cargo el Csv\n",
    "df_loyalty = load_csv(r\"C:\\Users\\elaru\\OneDrive\\Desktop\\modulo 3\\Customer Loyalty History.csv\")\n",
    "\n",
    "# Ejecutar pre-EDA\n",
    "df_loyalty_clean = pre_eda(df_loyalty, \"loyalty\")\n"
   ]
  },
  {
   "cell_type": "markdown",
   "id": "48a0568f",
   "metadata": {},
   "source": [
    "El dataset es consistente, sin duplicados, con nulos esperados en las columnas de cancelación."
   ]
  },
  {
   "cell_type": "markdown",
   "id": "be291fc1",
   "metadata": {},
   "source": [
    "\n",
    "\n",
    "### Customer Loyalty History.csv\n",
    "- **Loyalty Number:** Identificador único del cliente dentro del programa de lealtad. Este número permite correlacionar la información de este archivo con el archivo de actividad de vuelos.\n",
    "- **Country:** País de residencia del cliente.\n",
    "- **Province:** Provincia o estado de residencia del cliente (aplicable a países con divisiones provinciales o estatales, como Canadá).\n",
    "- **City:** Ciudad de residencia del cliente.\n",
    "- **Postal Code:** Código postal del cliente.\n",
    "- **Gender:** Género del cliente (ej. Male para masculino y Female para femenino).\n",
    "- **Education:** Nivel educativo alcanzado por el cliente (ej. Bachelor para licenciatura, College para estudios universitarios o técnicos, etc.).\n",
    "- **Salary:** Ingreso anual estimado del cliente.\n",
    "- **Marital Status:** Estado civil del cliente (ej. Single para soltero, Married para casado, Divorced para divorciado, etc.).\n",
    "- **Loyalty Card:** Tipo de tarjeta de lealtad que posee el cliente. Esto podría indicar distintos niveles o categorías dentro del programa de lealtad.\n",
    "- **CLV (Customer Lifetime Value):** Valor total estimado que el cliente aporta a la empresa durante toda la relación que mantiene con ella.\n",
    "- **Enrollment Type:** Tipo de inscripción del cliente en el programa de lealtad (ej. Standard).\n",
    "- **Enrollment Year:** Año en que el cliente se inscribió en el programa de lealtad.\n",
    "- **Enrollment Month:** Mes en que el cliente se inscribió en el programa de lealtad.\n",
    "- **Cancellation Year:** Año en que el cliente canceló su membresía en el programa de lealtad, si aplica.\n",
    "- **Cancellation Month:** Mes en que el cliente canceló su membresía en el programa de lealtad, si aplica."
   ]
  },
  {
   "cell_type": "code",
   "execution_count": 545,
   "id": "a07afaf2",
   "metadata": {},
   "outputs": [
    {
     "data": {
      "text/plain": [
       "Index(['loyalty_number', 'country', 'province', 'city', 'postal_code',\n",
       "       'gender', 'education', 'salary', 'marital_status', 'loyalty_card',\n",
       "       'clv', 'enrollment_type', 'enrollment_year', 'enrollment_month',\n",
       "       'cancellation_year', 'cancellation_month'],\n",
       "      dtype='object')"
      ]
     },
     "execution_count": 545,
     "metadata": {},
     "output_type": "execute_result"
    }
   ],
   "source": [
    "df_loyalty_clean.columns"
   ]
  },
  {
   "cell_type": "code",
   "execution_count": 546,
   "id": "51919fce",
   "metadata": {},
   "outputs": [
    {
     "name": "stdout",
     "output_type": "stream",
     "text": [
      "Nulos en loyalty_number: 0\n",
      "Valores únicos en loyalty_number: 16737\n"
     ]
    }
   ],
   "source": [
    "print(\"Nulos en loyalty_number:\", df_loyalty_clean[\"loyalty_number\"].isnull().sum())#coinciden los valores unicos asi que tenemos una columna por la que unir\n",
    "\n",
    "print(\"Valores únicos en loyalty_number:\", df_loyalty_clean[\"loyalty_number\"].nunique())\n"
   ]
  },
  {
   "cell_type": "markdown",
   "id": "3d809687",
   "metadata": {},
   "source": [
    "La columna loyalty_number no presenta nulos y cada cliente está identificado de forma única, por lo que puede utilizarse como clave primaria para unir datasets."
   ]
  },
  {
   "cell_type": "code",
   "execution_count": 547,
   "id": "a1e106f4",
   "metadata": {},
   "outputs": [
    {
     "name": "stdout",
     "output_type": "stream",
     "text": [
      "Nulos en country: 0\n",
      "country\n",
      "Canada    16737\n",
      "Name: count, dtype: int64\n"
     ]
    }
   ],
   "source": [
    "print(\"Nulos en country:\", df_loyalty_clean[\"country\"].isnull().sum())\n",
    "print(df_loyalty_clean[\"country\"].value_counts()) #en esta variable todos los valores son de canadá\n"
   ]
  },
  {
   "cell_type": "code",
   "execution_count": 548,
   "id": "911282ee",
   "metadata": {},
   "outputs": [
    {
     "data": {
      "text/html": [
       "<div>\n",
       "<style scoped>\n",
       "    .dataframe tbody tr th:only-of-type {\n",
       "        vertical-align: middle;\n",
       "    }\n",
       "\n",
       "    .dataframe tbody tr th {\n",
       "        vertical-align: top;\n",
       "    }\n",
       "\n",
       "    .dataframe thead th {\n",
       "        text-align: right;\n",
       "    }\n",
       "</style>\n",
       "<table border=\"1\" class=\"dataframe\">\n",
       "  <thead>\n",
       "    <tr style=\"text-align: right;\">\n",
       "      <th></th>\n",
       "      <th>loyalty_number</th>\n",
       "      <th>country</th>\n",
       "      <th>province</th>\n",
       "      <th>city</th>\n",
       "      <th>postal_code</th>\n",
       "      <th>gender</th>\n",
       "      <th>education</th>\n",
       "      <th>salary</th>\n",
       "      <th>marital_status</th>\n",
       "      <th>loyalty_card</th>\n",
       "      <th>clv</th>\n",
       "      <th>enrollment_type</th>\n",
       "      <th>enrollment_year</th>\n",
       "      <th>enrollment_month</th>\n",
       "      <th>cancellation_year</th>\n",
       "      <th>cancellation_month</th>\n",
       "    </tr>\n",
       "  </thead>\n",
       "  <tbody>\n",
       "    <tr>\n",
       "      <th>0</th>\n",
       "      <td>480934</td>\n",
       "      <td>Canada</td>\n",
       "      <td>Ontario</td>\n",
       "      <td>Toronto</td>\n",
       "      <td>M2Z 4K1</td>\n",
       "      <td>Female</td>\n",
       "      <td>Bachelor</td>\n",
       "      <td>83236.0</td>\n",
       "      <td>Married</td>\n",
       "      <td>Star</td>\n",
       "      <td>3839.14</td>\n",
       "      <td>Standard</td>\n",
       "      <td>2016</td>\n",
       "      <td>2</td>\n",
       "      <td>NaN</td>\n",
       "      <td>NaN</td>\n",
       "    </tr>\n",
       "    <tr>\n",
       "      <th>1</th>\n",
       "      <td>549612</td>\n",
       "      <td>Canada</td>\n",
       "      <td>Alberta</td>\n",
       "      <td>Edmonton</td>\n",
       "      <td>T3G 6Y6</td>\n",
       "      <td>Male</td>\n",
       "      <td>College</td>\n",
       "      <td>NaN</td>\n",
       "      <td>Divorced</td>\n",
       "      <td>Star</td>\n",
       "      <td>3839.61</td>\n",
       "      <td>Standard</td>\n",
       "      <td>2016</td>\n",
       "      <td>3</td>\n",
       "      <td>NaN</td>\n",
       "      <td>NaN</td>\n",
       "    </tr>\n",
       "    <tr>\n",
       "      <th>2</th>\n",
       "      <td>429460</td>\n",
       "      <td>Canada</td>\n",
       "      <td>British Columbia</td>\n",
       "      <td>Vancouver</td>\n",
       "      <td>V6E 3D9</td>\n",
       "      <td>Male</td>\n",
       "      <td>College</td>\n",
       "      <td>NaN</td>\n",
       "      <td>Single</td>\n",
       "      <td>Star</td>\n",
       "      <td>3839.75</td>\n",
       "      <td>Standard</td>\n",
       "      <td>2014</td>\n",
       "      <td>7</td>\n",
       "      <td>2018.0</td>\n",
       "      <td>1.0</td>\n",
       "    </tr>\n",
       "    <tr>\n",
       "      <th>3</th>\n",
       "      <td>608370</td>\n",
       "      <td>Canada</td>\n",
       "      <td>Ontario</td>\n",
       "      <td>Toronto</td>\n",
       "      <td>P1W 1K4</td>\n",
       "      <td>Male</td>\n",
       "      <td>College</td>\n",
       "      <td>NaN</td>\n",
       "      <td>Single</td>\n",
       "      <td>Star</td>\n",
       "      <td>3839.75</td>\n",
       "      <td>Standard</td>\n",
       "      <td>2013</td>\n",
       "      <td>2</td>\n",
       "      <td>NaN</td>\n",
       "      <td>NaN</td>\n",
       "    </tr>\n",
       "    <tr>\n",
       "      <th>4</th>\n",
       "      <td>530508</td>\n",
       "      <td>Canada</td>\n",
       "      <td>Quebec</td>\n",
       "      <td>Hull</td>\n",
       "      <td>J8Y 3Z5</td>\n",
       "      <td>Male</td>\n",
       "      <td>Bachelor</td>\n",
       "      <td>103495.0</td>\n",
       "      <td>Married</td>\n",
       "      <td>Star</td>\n",
       "      <td>3842.79</td>\n",
       "      <td>Standard</td>\n",
       "      <td>2014</td>\n",
       "      <td>10</td>\n",
       "      <td>NaN</td>\n",
       "      <td>NaN</td>\n",
       "    </tr>\n",
       "  </tbody>\n",
       "</table>\n",
       "</div>"
      ],
      "text/plain": [
       "   loyalty_number country          province       city postal_code  gender  \\\n",
       "0          480934  Canada           Ontario    Toronto     M2Z 4K1  Female   \n",
       "1          549612  Canada           Alberta   Edmonton     T3G 6Y6    Male   \n",
       "2          429460  Canada  British Columbia  Vancouver     V6E 3D9    Male   \n",
       "3          608370  Canada           Ontario    Toronto     P1W 1K4    Male   \n",
       "4          530508  Canada            Quebec       Hull     J8Y 3Z5    Male   \n",
       "\n",
       "  education    salary marital_status loyalty_card      clv enrollment_type  \\\n",
       "0  Bachelor   83236.0        Married         Star  3839.14        Standard   \n",
       "1   College       NaN       Divorced         Star  3839.61        Standard   \n",
       "2   College       NaN         Single         Star  3839.75        Standard   \n",
       "3   College       NaN         Single         Star  3839.75        Standard   \n",
       "4  Bachelor  103495.0        Married         Star  3842.79        Standard   \n",
       "\n",
       "   enrollment_year  enrollment_month  cancellation_year  cancellation_month  \n",
       "0             2016                 2                NaN                 NaN  \n",
       "1             2016                 3                NaN                 NaN  \n",
       "2             2014                 7             2018.0                 1.0  \n",
       "3             2013                 2                NaN                 NaN  \n",
       "4             2014                10                NaN                 NaN  "
      ]
     },
     "execution_count": 548,
     "metadata": {},
     "output_type": "execute_result"
    }
   ],
   "source": [
    "df_loyalty_clean.head()"
   ]
  },
  {
   "cell_type": "markdown",
   "id": "de9fe3ba",
   "metadata": {},
   "source": [
    "La columna country no presenta valores nulos y todos los registros pertenecen a Canadá (16.737 casos). Por tanto, no aporta variabilidad y puede considerarse una variable redundante que no aportará en análisis posteriores."
   ]
  },
  {
   "cell_type": "code",
   "execution_count": 549,
   "id": "ed4601d0",
   "metadata": {},
   "outputs": [],
   "source": [
    "df_loyalty_clean.drop(columns=[\"country\"], inplace=True)\n"
   ]
  },
  {
   "cell_type": "markdown",
   "id": "494da625",
   "metadata": {},
   "source": [
    "Decido borrarla."
   ]
  },
  {
   "cell_type": "code",
   "execution_count": 550,
   "id": "169744eb",
   "metadata": {},
   "outputs": [
    {
     "name": "stdout",
     "output_type": "stream",
     "text": [
      "Nulos en province: 0\n",
      "province\n",
      "Ontario                 5404\n",
      "British Columbia        4409\n",
      "Quebec                  3300\n",
      "Alberta                  969\n",
      "Manitoba                 658\n",
      "New Brunswick            636\n",
      "Nova Scotia              518\n",
      "Saskatchewan             409\n",
      "Newfoundland             258\n",
      "Yukon                    110\n",
      "Prince Edward Island      66\n",
      "Name: count, dtype: int64\n"
     ]
    }
   ],
   "source": [
    "print(\"Nulos en province:\", df_loyalty_clean[\"province\"].isnull().sum())\n",
    "print(df_loyalty_clean[\"province\"].value_counts(dropna=False))\n"
   ]
  },
  {
   "cell_type": "markdown",
   "id": "03a07b23",
   "metadata": {},
   "source": [
    "La columna province no presenta nulos y contiene 10 provincias de Canadá. Ontario (5404), British Columbia (4409) y Quebec (3300) concentran la mayoría de clientes, mientras que provincias como Prince Edward Island (66) o Yukon (110) tienen una representación mínima. Esta variable es útil para análisis geográficos y segmentación regional."
   ]
  },
  {
   "cell_type": "code",
   "execution_count": 551,
   "id": "868d8f25",
   "metadata": {},
   "outputs": [
    {
     "name": "stdout",
     "output_type": "stream",
     "text": [
      "Nulos en city: 0\n",
      "29 ciudades únicas\n",
      "city\n",
      "Toronto        3351\n",
      "Vancouver      2582\n",
      "Montreal       2059\n",
      "Winnipeg        658\n",
      "Whistler        582\n",
      "Halifax         518\n",
      "Ottawa          509\n",
      "Trenton         486\n",
      "Edmonton        486\n",
      "Quebec City     485\n",
      "Name: count, dtype: int64\n"
     ]
    }
   ],
   "source": [
    "print(\"Nulos en city:\", df_loyalty_clean[\"city\"].isnull().sum())\n",
    "print(df_loyalty_clean[\"city\"].nunique(), \"ciudades únicas\")\n",
    "print(df_loyalty_clean[\"city\"].value_counts(dropna=False).head(10))  # top 10 ciudades\n"
   ]
  },
  {
   "cell_type": "markdown",
   "id": "3ad1e18e",
   "metadata": {},
   "source": [
    "city no presenta nulos y recoge 29 ciudades distintas. Toronto (3351), Vancouver (2582) y Montreal (2059) concentran el mayor número de clientes, mientras que el resto de ciudades tienen frecuencias más bajas. Esta variable aporta variabilidad geográfica relevante para análisis de segmentación."
   ]
  },
  {
   "cell_type": "code",
   "execution_count": 552,
   "id": "be57acd9",
   "metadata": {},
   "outputs": [
    {
     "name": "stdout",
     "output_type": "stream",
     "text": [
      "Nulos en postal_code: 0\n",
      "Valores únicos en postal_code: 55\n",
      "postal_code\n",
      "V6E 3D9    911\n",
      "V5R 1W3    684\n",
      "V6T 1Y8    582\n",
      "V6E 3Z3    544\n",
      "M2M 7K8    534\n",
      "P1J 8T7    500\n",
      "H2T 9K8    499\n",
      "K8V 4B2    486\n",
      "G1B 3L5    485\n",
      "H2T 2J6    446\n",
      "Name: count, dtype: int64\n"
     ]
    }
   ],
   "source": [
    "print(\"Nulos en postal_code:\", df_loyalty_clean[\"postal_code\"].isnull().sum())\n",
    "print(\"Valores únicos en postal_code:\", df_loyalty_clean[\"postal_code\"].nunique())\n",
    "print(df_loyalty_clean[\"postal_code\"].value_counts(dropna=False).head(10))  # top 10 códigos postales\n"
   ]
  },
  {
   "cell_type": "code",
   "execution_count": 553,
   "id": "b5b85a4a",
   "metadata": {},
   "outputs": [],
   "source": [
    "df_loyalty_clean.drop(columns=[\"postal_code\"], inplace=True)\n"
   ]
  },
  {
   "cell_type": "markdown",
   "id": "0ecffb6e",
   "metadata": {},
   "source": [
    "decido borrar postal_code porque es redundante con province y no es relevante para responder a las preguntas del análisis."
   ]
  },
  {
   "cell_type": "code",
   "execution_count": 554,
   "id": "992c7d10",
   "metadata": {},
   "outputs": [
    {
     "name": "stdout",
     "output_type": "stream",
     "text": [
      "Nulos en gender: 0\n",
      "gender\n",
      "Female    8410\n",
      "Male      8327\n",
      "Name: count, dtype: int64\n"
     ]
    }
   ],
   "source": [
    "print(\"Nulos en gender:\", df_loyalty_clean[\"gender\"].isnull().sum())\n",
    "print(df_loyalty_clean[\"gender\"].value_counts(dropna=False))\n"
   ]
  },
  {
   "cell_type": "markdown",
   "id": "81ac13a1",
   "metadata": {},
   "source": [
    "gender no presenta valores nulos y está equilibrada: 8410 clientes son mujeres y 8327 son hombres. Esto indica una distribución casi uniforme de género en la muestra, por lo que la variable es válida para análisis comparativos."
   ]
  },
  {
   "cell_type": "code",
   "execution_count": 555,
   "id": "a136c871",
   "metadata": {},
   "outputs": [
    {
     "name": "stdout",
     "output_type": "stream",
     "text": [
      "Nulos en education: 0\n",
      "education\n",
      "Bachelor                10475\n",
      "College                  4238\n",
      "High School or Below      782\n",
      "Doctor                    734\n",
      "Master                    508\n",
      "Name: count, dtype: int64\n"
     ]
    }
   ],
   "source": [
    "print(\"Nulos en education:\", df_loyalty_clean[\"education\"].isnull().sum())\n",
    "print(df_loyalty_clean[\"education\"].value_counts(dropna=False))\n"
   ]
  },
  {
   "cell_type": "markdown",
   "id": "12e18e9e",
   "metadata": {},
   "source": [
    "education no presenta nulos y está dominada por clientes con estudios universitarios: Bachelor (10.475) y College (4.238), mientras que los niveles de posgrado (Master 588, Doctor 734) y secundaria o menos (782) tienen menor representación. Esto muestra un perfil de clientes mayoritariamente con formación superior."
   ]
  },
  {
   "cell_type": "code",
   "execution_count": 556,
   "id": "11cee513",
   "metadata": {},
   "outputs": [
    {
     "name": "stdout",
     "output_type": "stream",
     "text": [
      "--- Revisión de salary ---\n",
      "Nulos: 4238\n",
      "Negativos: 20\n",
      "Estadísticas básicas:\n",
      "count     12499.000000\n",
      "mean      79245.609409\n",
      "std       35008.297285\n",
      "min      -58486.000000\n",
      "25%       59246.500000\n",
      "50%       73455.000000\n",
      "75%       88517.500000\n",
      "max      407228.000000\n",
      "Name: salary, dtype: float64\n",
      "\n",
      "\n"
     ]
    }
   ],
   "source": [
    "revisar_columna(df_loyalty_clean, \"salary\")\n"
   ]
  },
  {
   "cell_type": "markdown",
   "id": "cf2fb5ac",
   "metadata": {},
   "source": [
    "La columna salary presenta 4.238 valores nulos y contiene registros negativos que son inconsistentes con un salario real, además de valores máximos muy altos que actúan como outliers. Los nulos y los negativos se imputarán con la mediana para no perder registros, y los outliers se mantendrán porque pueden corresponder a clientes de ingresos altos, aunque se tendrá en cuenta su influencia en los análisis."
   ]
  },
  {
   "cell_type": "code",
   "execution_count": 557,
   "id": "93c8993e",
   "metadata": {},
   "outputs": [
    {
     "name": "stdout",
     "output_type": "stream",
     "text": [
      "Nulos en salary después de limpieza: 0\n",
      "count     16737.000000\n",
      "mean      77923.595447\n",
      "std       30096.798629\n",
      "min       15609.000000\n",
      "25%       63991.000000\n",
      "50%       73510.000000\n",
      "75%       82940.000000\n",
      "max      407228.000000\n",
      "Name: salary, dtype: float64\n"
     ]
    },
    {
     "name": "stderr",
     "output_type": "stream",
     "text": [
      "C:\\Users\\elaru\\AppData\\Local\\Temp\\ipykernel_12728\\1352393910.py:6: FutureWarning: A value is trying to be set on a copy of a DataFrame or Series through chained assignment using an inplace method.\n",
      "The behavior will change in pandas 3.0. This inplace method will never work because the intermediate object on which we are setting values always behaves as a copy.\n",
      "\n",
      "For example, when doing 'df[col].method(value, inplace=True)', try using 'df.method({col: value}, inplace=True)' or df[col] = df[col].method(value) instead, to perform the operation inplace on the original object.\n",
      "\n",
      "\n",
      "  df_loyalty_clean[\"salary\"].fillna(mediana_salary, inplace=True)\n"
     ]
    }
   ],
   "source": [
    "# Reemplazar valores negativos por NaN\n",
    "df_loyalty_clean[\"salary\"] = df_loyalty_clean[\"salary\"].apply(lambda x: np.nan if x < 0 else x)#El valor negativo cambialo a NaN si no dejalo igual\n",
    "\n",
    "# Imputar nulos (incluye los que eran negativos) con la mediana\n",
    "mediana_salary = df_loyalty_clean[\"salary\"].median()\n",
    "df_loyalty_clean[\"salary\"].fillna(mediana_salary, inplace=True)\n",
    "\n",
    "# Verificación\n",
    "print(\"Nulos en salary después de limpieza:\", df_loyalty_clean[\"salary\"].isnull().sum())\n",
    "print(df_loyalty_clean[\"salary\"].describe())\n"
   ]
  },
  {
   "cell_type": "markdown",
   "id": "c7ce542e",
   "metadata": {},
   "source": [
    "Se corrigieron valores nulos y negativos. Todos los valores fueron imputados con la mediana porque la distribucion de Salary no es simetrica y tiene outliers muy altos que inflan la media. La mediana es mas robusta. Quedando la variable sin faltantes,ni inconsistencias negativas."
   ]
  },
  {
   "cell_type": "code",
   "execution_count": 558,
   "id": "0dfde2c2",
   "metadata": {},
   "outputs": [
    {
     "name": "stdout",
     "output_type": "stream",
     "text": [
      "Nulos en marital_status: 0\n",
      "marital_status\n",
      "Married     9735\n",
      "Single      4484\n",
      "Divorced    2518\n",
      "Name: count, dtype: int64\n"
     ]
    }
   ],
   "source": [
    "print(\"Nulos en marital_status:\", df_loyalty_clean[\"marital_status\"].isnull().sum())\n",
    "print(df_loyalty_clean[\"marital_status\"].value_counts(dropna=False))\n"
   ]
  },
  {
   "cell_type": "markdown",
   "id": "1d11f5b4",
   "metadata": {},
   "source": [
    "La columna marital_status no presenta nulos y contiene únicamente tres categorías válidas (Married, Single, Divorced), predominando los clientes casados, por lo que puede usarse directamente en el análisis."
   ]
  },
  {
   "cell_type": "code",
   "execution_count": 559,
   "id": "86f9a309",
   "metadata": {},
   "outputs": [
    {
     "name": "stdout",
     "output_type": "stream",
     "text": [
      "Nulos en loyalty_card: 0\n",
      "Valores únicos en loyalty_card: 3\n",
      "loyalty_card\n",
      "Star      7637\n",
      "Nova      5671\n",
      "Aurora    3429\n",
      "Name: count, dtype: int64\n"
     ]
    }
   ],
   "source": [
    "print(\"Nulos en loyalty_card:\", df_loyalty_clean[\"loyalty_card\"].isnull().sum())\n",
    "print(\"Valores únicos en loyalty_card:\", df_loyalty_clean[\"loyalty_card\"].nunique())\n",
    "print(df_loyalty_clean[\"loyalty_card\"].value_counts(dropna=False))#no tires los NaN,incluyelos en el resultado\n"
   ]
  },
  {
   "cell_type": "markdown",
   "id": "d3baa7bb",
   "metadata": {},
   "source": [
    "loyalty_card no presenta nulos y contiene 3 categorías válidas. Es una variable categórica nominal con distribución equilibrada y utilizable directamente en el análisis."
   ]
  },
  {
   "cell_type": "code",
   "execution_count": 560,
   "id": "ff1f200d",
   "metadata": {},
   "outputs": [
    {
     "name": "stdout",
     "output_type": "stream",
     "text": [
      "--- Revisión de clv ---\n",
      "Nulos: 0\n",
      "Negativos: 0\n",
      "Estadísticas básicas:\n",
      "count    16737.000000\n",
      "mean      7988.896536\n",
      "std       6860.982280\n",
      "min       1898.010000\n",
      "25%       3980.840000\n",
      "50%       5780.180000\n",
      "75%       8940.580000\n",
      "max      83325.380000\n",
      "Name: clv, dtype: float64\n",
      "\n",
      "\n"
     ]
    }
   ],
   "source": [
    "revisar_columna(df_loyalty_clean, \"clv\")#Customer Lifetime Value (Valor del Cliente a lo largo de su vida)."
   ]
  },
  {
   "cell_type": "markdown",
   "id": "8886feec",
   "metadata": {},
   "source": [
    "La variable clv no presenta nulos ni valores negativos y se considera consistente, aunque muestra gran dispersión y valores atípicos altos que desplazan la media respecto a la mediana. Para el análisis puede usarse directamente, pero conviene tener en cuenta el sesgo generado por los outliers. Una estrategia útil es complementar la exploración con histogramas o boxplots"
   ]
  },
  {
   "cell_type": "code",
   "execution_count": 561,
   "id": "2d691ab0",
   "metadata": {},
   "outputs": [
    {
     "data": {
      "text/plain": [
       "<Axes: >"
      ]
     },
     "execution_count": 561,
     "metadata": {},
     "output_type": "execute_result"
    },
    {
     "data": {
      "image/png": "[encoded data removed]",
      "text/plain": [
       "<Figure size 640x480 with 1 Axes>"
      ]
     },
     "metadata": {},
     "output_type": "display_data"
    }
   ],
   "source": [
    "df_loyalty_clean[\"clv\"].hist(bins=30)#para variables numericas\n"
   ]
  },
  {
   "cell_type": "code",
   "execution_count": 562,
   "id": "7b4b86bd",
   "metadata": {},
   "outputs": [
    {
     "data": {
      "text/plain": [
       "<Axes: >"
      ]
     },
     "execution_count": 562,
     "metadata": {},
     "output_type": "execute_result"
    },
    {
     "data": {
      "image/png": "[encoded data removed]",
      "text/plain": [
       "<Figure size 640x480 with 1 Axes>"
      ]
     },
     "metadata": {},
     "output_type": "display_data"
    }
   ],
   "source": [
    "df_loyalty_clean.boxplot(column=\"clv\")\n"
   ]
  },
  {
   "cell_type": "markdown",
   "id": "99056bdf",
   "metadata": {},
   "source": [
    "La variable clv presenta una fuerte asimetría positiva. La mediana está muy por debajo de la media en el .describe, mientras que se observan numerosos outliers que superan los 40.000 y llegan hasta 80.000. La mayoría de clientes concentra valores bajos de clv, mientras una minoría muy reducida explica los valores extremos.”"
   ]
  },
  {
   "cell_type": "code",
   "execution_count": 563,
   "id": "02bc6a99",
   "metadata": {},
   "outputs": [
    {
     "name": "stdout",
     "output_type": "stream",
     "text": [
      "0\n",
      "enrollment_type\n",
      "Standard          15766\n",
      "2018 Promotion      971\n",
      "Name: count, dtype: int64\n"
     ]
    }
   ],
   "source": [
    "print(df_loyalty_clean[\"enrollment_type\"].isnull().sum())\n",
    "print(df_loyalty_clean[\"enrollment_type\"].value_counts())\n"
   ]
  },
  {
   "cell_type": "markdown",
   "id": "6e19234e",
   "metadata": {},
   "source": [
    "La variable enrollment_type no presenta valores nulos. La gran mayoría de clientes (más del 94 %) tienen el tipo de inscripción estándar, mientras que solo un 6 % se inscribió mediante la promoción de 2018. Esto indica que la campaña promocional atrajo a un número reducido de clientes frente al canal habitual.”"
   ]
  },
  {
   "cell_type": "code",
   "execution_count": 564,
   "id": "977daea3",
   "metadata": {},
   "outputs": [
    {
     "name": "stdout",
     "output_type": "stream",
     "text": [
      "--- Revisión de enrollment_year ---\n",
      "Nulos: 0\n",
      "Negativos: 0\n",
      "Estadísticas básicas:\n",
      "count    16737.000000\n",
      "mean      2015.253211\n",
      "std          1.979111\n",
      "min       2012.000000\n",
      "25%       2014.000000\n",
      "50%       2015.000000\n",
      "75%       2017.000000\n",
      "max       2018.000000\n",
      "Name: enrollment_year, dtype: float64\n",
      "\n",
      "\n"
     ]
    }
   ],
   "source": [
    "revisar_columna(df_loyalty_clean, \"enrollment_year\")"
   ]
  },
  {
   "cell_type": "markdown",
   "id": "846547d7",
   "metadata": {},
   "source": [
    "La variable enrollment_year no presenta nulos ni valores negativos. Los datos abarcan desde 2012 hasta 2018, con una mediana en 2015. El 50 % de los clientes se inscribió entre 2014 y 2017, lo que indica que la mayor parte de la base de clientes es relativamente reciente. El máximo en 2018 coincide con la campaña de promoción identificada en la variable enrollment_type, lo que refuerza que esa acción generó un pico de nuevas inscripciones."
   ]
  },
  {
   "cell_type": "code",
   "execution_count": 565,
   "id": "b528a105",
   "metadata": {},
   "outputs": [
    {
     "name": "stdout",
     "output_type": "stream",
     "text": [
      "--- Revisión de enrollment_month ---\n",
      "Nulos: 0\n",
      "Negativos: 0\n",
      "Estadísticas básicas:\n",
      "count    16737.000000\n",
      "mean         6.669116\n",
      "std          3.398958\n",
      "min          1.000000\n",
      "25%          4.000000\n",
      "50%          7.000000\n",
      "75%         10.000000\n",
      "max         12.000000\n",
      "Name: enrollment_month, dtype: float64\n",
      "\n",
      "\n"
     ]
    }
   ],
   "source": [
    "revisar_columna(df_loyalty_clean, \"enrollment_month\")"
   ]
  },
  {
   "cell_type": "markdown",
   "id": "9c51d269",
   "metadata": {},
   "source": [
    "La variable enrollment_month no presenta nulos ni valores negativos. Los valores van del 1 al 12, lo que confirma que las inscripciones ocurrieron en todos los meses del año. La mediana es 7 (julio) y la media se sitúa en torno a 6,6, lo que indica que las inscripciones están repartidas de forma bastante uniforme a lo largo del año, con un punto central en verano. Los percentiles (25% = abril, 50% = julio, 75% = octubre) refuerzan esta distribución equilibrada."
   ]
  },
  {
   "cell_type": "code",
   "execution_count": 566,
   "id": "0893e0bf",
   "metadata": {},
   "outputs": [
    {
     "name": "stdout",
     "output_type": "stream",
     "text": [
      "Nulos en cancellation_year: 14670\n",
      "Valores únicos: [  nan 2018. 2015. 2017. 2014. 2016. 2013.]\n",
      "Cantidad de valores únicos: 6\n",
      "Tipo de dato: float64\n"
     ]
    }
   ],
   "source": [
    "print(\"Nulos en cancellation_year:\", df_loyalty_clean[\"cancellation_year\"].isna().sum())#cuenta cuanto valores faltantes tiene una columna\n",
    "print(\"Valores únicos:\", df_loyalty_clean[\"cancellation_year\"].unique())#sirve para ver cuantos valores distintos hay.\n",
    "print(\"Cantidad de valores únicos:\", df_loyalty_clean[\"cancellation_year\"].nunique())#sirve para inspeccionar que valores aparecen\n",
    "print(\"Tipo de dato:\", df_loyalty_clean[\"cancellation_year\"].dtype)\n"
   ]
  },
  {
   "cell_type": "markdown",
   "id": "89abcdb7",
   "metadata": {},
   "source": [
    "La variable cancellation_year presenta nulos que representan clientes activos. No deben imputarse, ya que aportan información útil para segmentar clientes activos vs. cancelados. Inicialmente Pandas asigna el tipo float64 por la presencia de nulos, pero puede convertirse a Int64 para mejorar la legibilidad sin perder los nulos."
   ]
  },
  {
   "cell_type": "code",
   "execution_count": 567,
   "id": "42b355cc",
   "metadata": {},
   "outputs": [],
   "source": [
    "df_loyalty_clean[\"cancellation_year\"] = df_loyalty_clean[\"cancellation_year\"].astype(\"Int64\")\n"
   ]
  },
  {
   "cell_type": "code",
   "execution_count": 568,
   "id": "4959e796",
   "metadata": {},
   "outputs": [
    {
     "name": "stdout",
     "output_type": "stream",
     "text": [
      "Int64\n",
      "<IntegerArray>\n",
      "[<NA>, 2018, 2015, 2017, 2014, 2016, 2013]\n",
      "Length: 7, dtype: Int64\n"
     ]
    }
   ],
   "source": [
    "print(df_loyalty_clean[\"cancellation_year\"].dtype)\n",
    "print(df_loyalty_clean[\"cancellation_year\"].unique())\n"
   ]
  },
  {
   "cell_type": "code",
   "execution_count": 569,
   "id": "509267b2",
   "metadata": {},
   "outputs": [
    {
     "name": "stdout",
     "output_type": "stream",
     "text": [
      "Nulos en cancellation_month: 14670\n",
      "Valores únicos: [nan  1. 12.  4.  2.  7. 11.  5.  6. 10.  8.  9.  3.]\n",
      "Cantidad de valores únicos: 12\n",
      "Tipo de dato: float64\n"
     ]
    }
   ],
   "source": [
    "print(\"Nulos en cancellation_month:\", df_loyalty_clean[\"cancellation_month\"].isna().sum())\n",
    "print(\"Valores únicos:\", df_loyalty_clean[\"cancellation_month\"].unique())\n",
    "print(\"Cantidad de valores únicos:\", df_loyalty_clean[\"cancellation_month\"].nunique())\n",
    "print(\"Tipo de dato:\", df_loyalty_clean[\"cancellation_month\"].dtype)\n"
   ]
  },
  {
   "cell_type": "markdown",
   "id": "2e4829c1",
   "metadata": {},
   "source": [
    "cancellation_month presenta 14 670 nulos, que corresponden a clientes que no han cancelado, por lo que estos valores deben interpretarse como “activo” y no imputarse. Los 2 067 registros restantes contienen valores entre 1 y 12, que indican el mes en que se produjo la baja. La variable es consistente, refleja información temporal relevante y, al igual que cancellation_year, los nulos son informativos y útiles para diferenciar entre clientes activos y cancelados."
   ]
  },
  {
   "cell_type": "code",
   "execution_count": 570,
   "id": "5c8bd8ef",
   "metadata": {},
   "outputs": [],
   "source": [
    "\n",
    "df_loyalty_clean[\"cancellation_month\"] = df_loyalty_clean[\"cancellation_month\"].astype(\"Int64\")"
   ]
  },
  {
   "cell_type": "code",
   "execution_count": 571,
   "id": "16798dce",
   "metadata": {},
   "outputs": [
    {
     "name": "stdout",
     "output_type": "stream",
     "text": [
      "Int64\n",
      "<IntegerArray>\n",
      "[<NA>, 1, 12, 4, 2, 7, 11, 5, 6, 10, 8, 9, 3]\n",
      "Length: 13, dtype: Int64\n"
     ]
    }
   ],
   "source": [
    "print(df_loyalty_clean[\"cancellation_month\"].dtype)\n",
    "print(df_loyalty_clean[\"cancellation_month\"].unique())"
   ]
  },
  {
   "cell_type": "markdown",
   "id": "4fac7f49",
   "metadata": {},
   "source": [
    "#Uno los dos dataframe en un merge inner para que devuelva unicamente los clientes que aparecen en ambos datasets por la columna loyalty_number."
   ]
  },
  {
   "cell_type": "code",
   "execution_count": 572,
   "id": "aadfd6a8",
   "metadata": {},
   "outputs": [],
   "source": [
    "df_master = pd.merge(\n",
    "    df_flight_clean, \n",
    "    df_loyalty_clean, \n",
    "    on=\"loyalty_number\",   # columna común en ambos\n",
    "    how=\"inner\"            # inner: solo clientes que están en ambos datasets\n",
    ")\n"
   ]
  },
  {
   "cell_type": "code",
   "execution_count": 573,
   "id": "ffb8aae6",
   "metadata": {},
   "outputs": [
    {
     "name": "stdout",
     "output_type": "stream",
     "text": [
      "(405624, 23)\n",
      "   loyalty_number  year  month  flights_booked  flights_with_companions  \\\n",
      "0          100018  2017      1               3                        0   \n",
      "1          100102  2017      1              10                        4   \n",
      "2          100140  2017      1               6                        0   \n",
      "3          100214  2017      1               0                        0   \n",
      "4          100272  2017      1               0                        0   \n",
      "\n",
      "   total_flights  distance  points_accumulated  points_redeemed  \\\n",
      "0              3      1521               152.0                0   \n",
      "1             14      2030               203.0                0   \n",
      "2              6      1200               120.0                0   \n",
      "3              0         0                 0.0                0   \n",
      "4              0         0                 0.0                0   \n",
      "\n",
      "   dollar_cost_points_redeemed  ... education   salary marital_status  \\\n",
      "0                            0  ...  Bachelor  92552.0        Married   \n",
      "1                            0  ...   College  73510.0         Single   \n",
      "2                            0  ...   College  73510.0       Divorced   \n",
      "3                            0  ...  Bachelor  63253.0        Married   \n",
      "4                            0  ...  Bachelor  91163.0       Divorced   \n",
      "\n",
      "  loyalty_card      clv enrollment_type enrollment_year  enrollment_month  \\\n",
      "0       Aurora  7919.20        Standard            2016                 8   \n",
      "1         Nova  2887.74        Standard            2013                 3   \n",
      "2         Nova  2838.07        Standard            2016                 7   \n",
      "3         Star  4170.57        Standard            2015                 8   \n",
      "4         Star  6622.05        Standard            2014                 1   \n",
      "\n",
      "  cancellation_year  cancellation_month  \n",
      "0              <NA>                <NA>  \n",
      "1              <NA>                <NA>  \n",
      "2              <NA>                <NA>  \n",
      "3              <NA>                <NA>  \n",
      "4              <NA>                <NA>  \n",
      "\n",
      "[5 rows x 23 columns]\n"
     ]
    }
   ],
   "source": [
    "print(df_master.shape)\n",
    "print(df_master.head())\n"
   ]
  },
  {
   "cell_type": "code",
   "execution_count": 574,
   "id": "9ba5808e",
   "metadata": {},
   "outputs": [
    {
     "name": "stdout",
     "output_type": "stream",
     "text": [
      "(405624, 23)\n",
      "loyalty_number                      0\n",
      "year                                0\n",
      "month                               0\n",
      "flights_booked                      0\n",
      "flights_with_companions             0\n",
      "total_flights                       0\n",
      "distance                            0\n",
      "points_accumulated                  0\n",
      "points_redeemed                     0\n",
      "dollar_cost_points_redeemed         0\n",
      "province                            0\n",
      "city                                0\n",
      "gender                              0\n",
      "education                           0\n",
      "salary                              0\n",
      "marital_status                      0\n",
      "loyalty_card                        0\n",
      "clv                                 0\n",
      "enrollment_type                     0\n",
      "enrollment_year                     0\n",
      "enrollment_month                    0\n",
      "cancellation_year              355560\n",
      "cancellation_month             355560\n",
      "dtype: int64\n",
      "1864\n"
     ]
    }
   ],
   "source": [
    "print(df_master.shape)                # dimensiones\n",
    "print(df_master.isnull().sum())       # nulos por columna\n",
    "print(df_master.duplicated().sum())   # duplicados completos\n"
   ]
  },
  {
   "cell_type": "markdown",
   "id": "a7d115dd",
   "metadata": {},
   "source": [
    "Fase 2: Visualización\n",
    "¿Cómo se distribuye la cantidad de vuelos reservados por mes durante el año?\n"
   ]
  },
  {
   "cell_type": "code",
   "execution_count": null,
   "id": "8ddff3f7",
   "metadata": {},
   "outputs": [
    {
     "name": "stdout",
     "output_type": "stream",
     "text": [
      "    year  month  flights_booked\n",
      "0   2017      1           47766\n",
      "1   2017      2           47691\n",
      "2   2017      3           64271\n",
      "3   2017      4           55720\n",
      "4   2017      5           65279\n",
      "5   2017      6           80493\n",
      "6   2017      7           89288\n",
      "7   2017      8           78692\n",
      "8   2017      9           63304\n",
      "9   2017     10           60351\n",
      "10  2017     11           56905\n",
      "11  2017     12           77650\n",
      "12  2018      1           49170\n",
      "13  2018      2           48643\n",
      "14  2018      3           66928\n",
      "15  2018      4           56791\n",
      "16  2018      5           76891\n",
      "17  2018      6           92749\n",
      "18  2018      7          104143\n",
      "19  2018      8           90512\n",
      "20  2018      9           73075\n",
      "21  2018     10           69110\n",
      "22  2018     11           65345\n",
      "23  2018     12           88397\n"
     ]
    }
   ],
   "source": [
    "flights_by_month = (df_master.groupby([\"year\", \"month\"])[\"flights_booked\"].sum().reset_index())#genera un índice numerico nuevo\n",
    "print(flights_by_month)"
   ]
  },
  {
   "cell_type": "code",
   "execution_count": 576,
   "id": "3cf3f6e0",
   "metadata": {},
   "outputs": [
    {
     "data": {
      "image/png": "[encoded data removed]",
      "text/plain": [
       "<Figure size 1000x500 with 1 Axes>"
      ]
     },
     "metadata": {},
     "output_type": "display_data"
    }
   ],
   "source": [
    "#Grafico de barras agrupadas que le va mejor a las variables numerica+temporales.\n",
    "\n",
    "\n",
    "plt.figure(figsize=(10,5))\n",
    "sns.barplot(x=\"month\", y=\"flights_booked\", hue=\"year\", data=flights_by_month,palette=\"Set2\")\n",
    "plt.title(\"Vuelos reservados por mes y año\")\n",
    "plt.xlabel(\"Mes\")\n",
    "plt.ylabel(\"Total de vuelos\")\n",
    "plt.show()"
   ]
  },
  {
   "cell_type": "markdown",
   "id": "1d902b8b",
   "metadata": {},
   "source": [
    "Los vuelos reservados se distribuyen regularmente a lo largo de los meses con un aumento claro en verano y Diciembre y con picos en Agosto. Al comparar los años, 2018 presenta en la mayoría de los meses un mayor número de reservas que 2017, lo que indica un crecimiento en la actividad del programa de fidelización."
   ]
  },
  {
   "cell_type": "markdown",
   "id": "8c4a6adb",
   "metadata": {},
   "source": [
    "¿Existe una relación entre la distancia de los vuelos y los puntos acumulados por los cliente?"
   ]
  },
  {
   "cell_type": "code",
   "execution_count": 592,
   "id": "19748839",
   "metadata": {},
   "outputs": [
    {
     "name": "stdout",
     "output_type": "stream",
     "text": [
      "                    distance  points_accumulated\n",
      "distance             1.00000             0.99453\n",
      "points_accumulated   0.99453             1.00000\n"
     ]
    }
   ],
   "source": [
    "print(df_flight_grouped[[\"distance\",\"points_accumulated\"]].corr())\n"
   ]
  },
  {
   "cell_type": "code",
   "execution_count": null,
   "id": "1fc47f01",
   "metadata": {},
   "outputs": [
    {
     "data": {
      "text/plain": [
       "<Axes: xlabel='distance', ylabel='points_accumulated'>"
      ]
     },
     "execution_count": 593,
     "metadata": {},
     "output_type": "execute_result"
    },
    {
     "data": {
      "image/png": "[encoded data removed]",
      "text/plain": [
       "<Figure size 640x480 with 1 Axes>"
      ]
     },
     "metadata": {},
     "output_type": "display_data"
    }
   ],
   "source": [
    "#Scatter plot con linea de regresion. Para comprobar si dos variables numerica tienen correlacion\n",
    "sns.regplot(\n",
    "    x=\"distance\", y=\"points_accumulated\",\n",
    "    data=df_master,\n",
    "    scatter_kws={\"alpha\":0.3},   # puntos transparentes\n",
    "    line_kws={\"color\":\"red\"}     # línea de tendencia en rojo\n",
    ")\n",
    "\n"
   ]
  },
  {
   "cell_type": "markdown",
   "id": "c307f942",
   "metadata": {},
   "source": [
    "En el gráfico aparecen varias líneas porque los clientes tienen diferentes reglas de acumulación de puntos según su perfil o tipo de tarjeta. Por eso no todos convierten la misma distancia en la misma cantidad de puntos. Cada lineas son muchos clientes que siguen una misma proporcion y son diferentes entre ellas. \n",
    "A mayor distancia volada, más puntos acumulados. Las distintas líneas reflejan que existen categorías de clientes, lo cual es coherente con un programa de fidelización."
   ]
  },
  {
   "cell_type": "markdown",
   "id": "563c002a",
   "metadata": {},
   "source": [
    "¿Cuál es la distribución de los clientes por provincia o estado?"
   ]
  },
  {
   "cell_type": "code",
   "execution_count": 578,
   "id": "e7078813",
   "metadata": {},
   "outputs": [],
   "source": [
    "flights_by_month = (df_master.groupby([\"province\"])[\"loyalty_number\"].nunique().reset_index()) #nunique cuenta los clientes unicos por provincia.\n",
    "clients_by_province = df_master.groupby(\"province\")[\"loyalty_number\"].nunique().reset_index()\n"
   ]
  },
  {
   "cell_type": "code",
   "execution_count": null,
   "id": "fa4cb5f4",
   "metadata": {},
   "outputs": [
    {
     "name": "stderr",
     "output_type": "stream",
     "text": [
      "C:\\Users\\elaru\\AppData\\Local\\Temp\\ipykernel_12728\\3715624571.py:3: FutureWarning: \n",
      "\n",
      "Passing `palette` without assigning `hue` is deprecated and will be removed in v0.14.0. Assign the `y` variable to `hue` and set `legend=False` for the same effect.\n",
      "\n",
      "  sns.barplot(x=\"loyalty_number\", y=\"province\", data=clients_by_province, palette=\"magma\")\n"
     ]
    },
    {
     "data": {
      "image/png": "[encoded data removed]",
      "text/plain": [
       "<Figure size 1000x600 with 1 Axes>"
      ]
     },
     "metadata": {},
     "output_type": "display_data"
    }
   ],
   "source": [
    "# Gráfico de barras horizontal. Para representar variables categóricas y comparar cantidades facilmente.\n",
    "plt.figure(figsize=(10,6))\n",
    "sns.barplot(x=\"loyalty_number\", y=\"province\", data=clients_by_province, palette=\"magma\")\n",
    "plt.title(\"Distribución de clientes por provincia/estado\")\n",
    "plt.xlabel(\"Número de clientes únicos\")\n",
    "plt.ylabel(\"Provincia/Estado\")\n",
    "plt.show()"
   ]
  },
  {
   "cell_type": "markdown",
   "id": "e4e9e342",
   "metadata": {},
   "source": [
    "El grafico parece un reflejo demográfico del pais.La base de clientes está concentrada principalmente en las provincias más pobladas y económicamente activas (Ontario, Quebec, British Columbia).Los mercados grandes aportan la mayor parte de clientes, mientras que los estados pequeños apenas contribuyen."
   ]
  },
  {
   "cell_type": "markdown",
   "id": "352f7358",
   "metadata": {},
   "source": [
    "¿Cómo se compara el salario promedio entre los diferentes niveles educativos de los clientes?"
   ]
  },
  {
   "cell_type": "code",
   "execution_count": 580,
   "id": "169803b4",
   "metadata": {},
   "outputs": [],
   "source": [
    "clients = df_master.drop_duplicates(subset=[\"loyalty_number\"]) # esto me evita duplicados.mi dataframe cuenta por actividad asi que un mismo cliente aparece varias veces.\n",
    "clients_by_education = clients.groupby(\"education\")[\"salary\"].mean().reset_index()"
   ]
  },
  {
   "cell_type": "code",
   "execution_count": null,
   "id": "a30f2cd7",
   "metadata": {},
   "outputs": [
    {
     "data": {
      "text/plain": [
       "<Axes: xlabel='education', ylabel='salary'>"
      ]
     },
     "execution_count": 581,
     "metadata": {},
     "output_type": "execute_result"
    },
    {
     "data": {
      "image/png": "[encoded data removed]",
      "text/plain": [
       "<Figure size 640x480 with 1 Axes>"
      ]
     },
     "metadata": {},
     "output_type": "display_data"
    }
   ],
   "source": [
    "#Gráfico de líneas para comparar una variable numerica con una categorica.\n",
    "sns.lineplot(x=\"education\", y=\"salary\", data=clients_by_education, marker=\"o\" , color=\"red\")\n"
   ]
  },
  {
   "cell_type": "markdown",
   "id": "b4951958",
   "metadata": {},
   "source": [
    "El salario promedio aumenta de forma consistente con el nivel educativo. Los clientes con doctorado perciben los salarios más altos, mientras que quienes solo tienen secundaria o menos registran los más bajos."
   ]
  },
  {
   "cell_type": "markdown",
   "id": "db8dd854",
   "metadata": {},
   "source": [
    "¿Cuál es la proporción de clientes con diferentes tipos de tarjetas de fidelidad? "
   ]
  },
  {
   "cell_type": "code",
   "execution_count": 594,
   "id": "cba6f93f",
   "metadata": {},
   "outputs": [],
   "source": [
    "\n",
    "clients = df_master.drop_duplicates(subset=[\"loyalty_number\"])#le dice a panda que deje solo una fila por cliente\n",
    "clients_by_loyalty_card = clients[\"loyalty_card\"].value_counts(normalize=True) * 100 \n",
    "#si no pones normalize True solo devuelve el numero de clientes por tarjeta no la proporción\n",
    "\n"
   ]
  },
  {
   "cell_type": "code",
   "execution_count": null,
   "id": "95a023a5",
   "metadata": {},
   "outputs": [
    {
     "data": {
      "image/png": "[encoded data removed]",
      "text/plain": [
       "<Figure size 640x480 with 1 Axes>"
      ]
     },
     "metadata": {},
     "output_type": "display_data"
    }
   ],
   "source": [
    "#Pie chart. Útil para comparar variables categóricas y el peso de las categorias dentro del total.\n",
    "clients_by_loyalty_card.plot(kind=\"pie\",autopct=\"%.1f%%\",ylabel=\"\",  # quita el label lateral feo\n",
    "    colors=sns.color_palette(\"Accent\"))\n",
    "plt.title(\"Proportion of Clients by Loyalty Card Type\")\n",
    "plt.show()\n"
   ]
  },
  {
   "cell_type": "markdown",
   "id": "5e0a3fcb",
   "metadata": {},
   "source": [
    "La mayoría de los clientes posee la tarjeta Star (aprox.45%), seguida por la tarjeta Nova (≈34%). La tarjeta Aurora concentra la menor proporción de clientes (≈20%). Esto indica que Star es la modalidad predominante en la base de clientes."
   ]
  },
  {
   "cell_type": "markdown",
   "id": "94038b05",
   "metadata": {},
   "source": [
    "¿Cómo se distribuyen los clientes según su estado civil y género?"
   ]
  },
  {
   "cell_type": "code",
   "execution_count": 584,
   "id": "885e87b6",
   "metadata": {},
   "outputs": [
    {
     "name": "stdout",
     "output_type": "stream",
     "text": [
      "  marital_status  gender  loyalty_number\n",
      "0       Divorced  Female            1269\n",
      "1       Divorced    Male            1249\n",
      "2        Married  Female            4869\n",
      "3        Married    Male            4866\n",
      "4         Single  Female            2272\n",
      "5         Single    Male            2212\n"
     ]
    }
   ],
   "source": [
    "\n",
    "clients = df_master.drop_duplicates(subset=[\"loyalty_number\"])\n",
    "clients_by_status_gender = clients.groupby([\"marital_status\", \"gender\"])[\"loyalty_number\"].count().reset_index()\n",
    "\n",
    "print(clients_by_status_gender)\n",
    "\n"
   ]
  },
  {
   "cell_type": "code",
   "execution_count": null,
   "id": "d3d2ae77",
   "metadata": {},
   "outputs": [
    {
     "data": {
      "image/png": "[encoded data removed]",
      "text/plain": [
       "<Figure size 640x480 with 2 Axes>"
      ]
     },
     "metadata": {},
     "output_type": "display_data"
    }
   ],
   "source": [
    "#Barras apiladas que \n",
    "crosstab = pd.crosstab(clients[\"marital_status\"], clients[\"gender\"])\n",
    "sns.heatmap(crosstab, annot=True, fmt=\"d\", cmap=\"Spectral\")\n",
    "plt.title(\"Clients by Marital Status and Gender\")\n",
    "plt.show()"
   ]
  },
  {
   "cell_type": "markdown",
   "id": "2ec5131d",
   "metadata": {},
   "source": [
    "La distribución por género es muy equilibrada en todos los estados civiles. La mayor parte de los clientes son casados, mientras que los solteros y divorciados representan proporciones menores y similares entre sí."
   ]
  },
  {
   "cell_type": "markdown",
   "id": "15fbc86e",
   "metadata": {},
   "source": [
    "BONUS Fase 3: Evaluación de Diferencias en Reservas de Vuelos por Nivel Educativo"
   ]
  },
  {
   "cell_type": "code",
   "execution_count": 586,
   "id": "f363fdff",
   "metadata": {},
   "outputs": [],
   "source": [
    "# Filtrar columnas relevantes y clientes únicos\n",
    "clients = df_master.drop_duplicates(subset=[\"loyalty_number\"])\n",
    "flights_by_education = clients[[\"flights_booked\", \"education\"]]\n"
   ]
  },
  {
   "cell_type": "code",
   "execution_count": 587,
   "id": "61a68e38",
   "metadata": {},
   "outputs": [],
   "source": [
    "\n",
    "#Funcion de Estadisticas descriptivas\n",
    "def descriptive_stats_by_group(df, group_col, value_col):\n",
    "    \"\"\"\n",
    "    Calcula estadísticas descriptivas agrupadas:\n",
    "    - count\n",
    "    - mean\n",
    "    - median\n",
    "    - mode\n",
    "    - std (desviación estándar)\n",
    "    \n",
    "    Devuelve un DataFrame con un resumen por cada grupo.\n",
    "    \"\"\"\n",
    "    grouped = df.groupby(group_col)[value_col]\n",
    "    \n",
    "    count = grouped.count()\n",
    "    mean = grouped.mean()\n",
    "    median = grouped.median()\n",
    "    mode = grouped.apply(lambda x: x.mode().iloc[0])  # primer valor si hay empate\n",
    "    std = grouped.std()\n",
    "\n",
    "    result = pd.DataFrame({\n",
    "        \"count\": count,\n",
    "        \"mean\": mean,\n",
    "        \"median\": median,\n",
    "        \"mode\": mode,\n",
    "        \"std\": std\n",
    "    })\n",
    "    \n",
    "    return result\n",
    "\n"
   ]
  },
  {
   "cell_type": "code",
   "execution_count": 588,
   "id": "a0dfe215",
   "metadata": {},
   "outputs": [
    {
     "name": "stdout",
     "output_type": "stream",
     "text": [
      "                      count      mean  median  mode       std\n",
      "education                                                    \n",
      "Bachelor              10475  2.840477     0.0     0  4.015799\n",
      "College                4238  2.875885     0.0     0  4.021617\n",
      "Doctor                  734  2.956403     0.0     0  4.223724\n",
      "High School or Below    782  2.882353     0.0     0  4.105706\n",
      "Master                  508  2.962598     0.0     0  4.252459\n"
     ]
    }
   ],
   "source": [
    "clients = df_master.drop_duplicates(subset=[\"loyalty_number\"])\n",
    "flights_by_education = clients[[\"flights_booked\", \"education\"]]\n",
    "\n",
    "desc_stats = descriptive_stats_by_group(flights_by_education, \"education\", \"flights_booked\")\n",
    "print(desc_stats)\n"
   ]
  },
  {
   "cell_type": "code",
   "execution_count": 589,
   "id": "b59dd799",
   "metadata": {},
   "outputs": [
    {
     "name": "stdout",
     "output_type": "stream",
     "text": [
      "ANOVA global: F=0.2701, p=0.8973\n",
      "Alpha Bonferroni: 0.005\n",
      "\n",
      "📊 **Resultados de la Prueba de Hipótesis** 📊\n",
      "✅ Test de Normalidad: No\n",
      "   - Normalidad por grupo: [np.False_, np.False_]\n",
      "✅ Test de Varianza: Iguales (p = 0.6283)\n",
      "✅ Test aplicado: Mann-Whitney U\n",
      "📉 Estadístico: 22075864.5000, p-valor: 0.5686\n",
      "🔍 Conclusión: No se rechaza H0. Es decir, no hay diferencias significativas)\n",
      "\n",
      "\n",
      "📊 **Resultados de la Prueba de Hipótesis** 📊\n",
      "✅ Test de Normalidad: No\n",
      "   - Normalidad por grupo: [np.False_, np.False_]\n",
      "✅ Test de Varianza: Iguales (p = 0.4512)\n",
      "✅ Test aplicado: Mann-Whitney U\n",
      "📉 Estadístico: 3839738.5000, p-valor: 0.9524\n",
      "🔍 Conclusión: No se rechaza H0. Es decir, no hay diferencias significativas)\n",
      "\n",
      "\n",
      "📊 **Resultados de la Prueba de Hipótesis** 📊\n",
      "✅ Test de Normalidad: No\n",
      "   - Normalidad por grupo: [np.False_, np.False_]\n",
      "✅ Test de Varianza: Iguales (p = 0.7788)\n",
      "✅ Test aplicado: Mann-Whitney U\n",
      "📉 Estadístico: 4088579.0000, p-valor: 0.9283\n",
      "🔍 Conclusión: No se rechaza H0. Es decir, no hay diferencias significativas)\n",
      "\n",
      "\n",
      "📊 **Resultados de la Prueba de Hipótesis** 📊\n",
      "✅ Test de Normalidad: No\n",
      "   - Normalidad por grupo: [np.False_, np.False_]\n",
      "✅ Test de Varianza: Iguales (p = 0.5045)\n",
      "✅ Test aplicado: Mann-Whitney U\n",
      "📉 Estadístico: 2658196.5000, p-valor: 0.9691\n",
      "🔍 Conclusión: No se rechaza H0. Es decir, no hay diferencias significativas)\n",
      "\n",
      "\n",
      "📊 **Resultados de la Prueba de Hipótesis** 📊\n",
      "✅ Test de Normalidad: No\n",
      "   - Normalidad por grupo: [np.False_, np.False_]\n",
      "✅ Test de Varianza: Iguales (p = 0.6192)\n",
      "✅ Test aplicado: Mann-Whitney U\n",
      "📉 Estadístico: 1561381.0000, p-valor: 0.8531\n",
      "🔍 Conclusión: No se rechaza H0. Es decir, no hay diferencias significativas)\n",
      "\n",
      "\n",
      "📊 **Resultados de la Prueba de Hipótesis** 📊\n",
      "✅ Test de Normalidad: No\n",
      "   - Normalidad por grupo: [np.False_, np.False_]\n",
      "✅ Test de Varianza: Iguales (p = 0.9671)\n",
      "✅ Test aplicado: Mann-Whitney U\n",
      "📉 Estadístico: 1662938.0000, p-valor: 0.8620\n",
      "🔍 Conclusión: No se rechaza H0. Es decir, no hay diferencias significativas)\n",
      "\n",
      "\n",
      "📊 **Resultados de la Prueba de Hipótesis** 📊\n",
      "✅ Test de Normalidad: No\n",
      "   - Normalidad por grupo: [np.False_, np.False_]\n",
      "✅ Test de Varianza: Iguales (p = 0.6481)\n",
      "✅ Test aplicado: Mann-Whitney U\n",
      "📉 Estadístico: 1081361.0000, p-valor: 0.8531\n",
      "🔍 Conclusión: No se rechaza H0. Es decir, no hay diferencias significativas)\n",
      "\n",
      "\n",
      "📊 **Resultados de la Prueba de Hipótesis** 📊\n",
      "✅ Test de Normalidad: No\n",
      "   - Normalidad por grupo: [np.False_, np.False_]\n",
      "✅ Test de Varianza: Iguales (p = 0.7293)\n",
      "✅ Test aplicado: Mann-Whitney U\n",
      "📉 Estadístico: 286789.5000, p-valor: 0.9788\n",
      "🔍 Conclusión: No se rechaza H0. Es decir, no hay diferencias significativas)\n",
      "\n",
      "\n",
      "📊 **Resultados de la Prueba de Hipótesis** 📊\n",
      "✅ Test de Normalidad: No\n",
      "   - Normalidad por grupo: [np.False_, np.False_]\n",
      "✅ Test de Varianza: Iguales (p = 0.9798)\n",
      "✅ Test aplicado: Mann-Whitney U\n",
      "📉 Estadístico: 186501.5000, p-valor: 0.9907\n",
      "🔍 Conclusión: No se rechaza H0. Es decir, no hay diferencias significativas)\n",
      "\n",
      "\n",
      "📊 **Resultados de la Prueba de Hipótesis** 📊\n",
      "✅ Test de Normalidad: No\n",
      "   - Normalidad por grupo: [np.False_, np.False_]\n",
      "✅ Test de Varianza: Iguales (p = 0.7353)\n",
      "✅ Test aplicado: Mann-Whitney U\n",
      "📉 Estadístico: 198741.5000, p-valor: 0.9847\n",
      "🔍 Conclusión: No se rechaza H0. Es decir, no hay diferencias significativas)\n",
      "\n"
     ]
    },
    {
     "data": {
      "text/html": [
       "<div>\n",
       "<style scoped>\n",
       "    .dataframe tbody tr th:only-of-type {\n",
       "        vertical-align: middle;\n",
       "    }\n",
       "\n",
       "    .dataframe tbody tr th {\n",
       "        vertical-align: top;\n",
       "    }\n",
       "\n",
       "    .dataframe thead th {\n",
       "        text-align: right;\n",
       "    }\n",
       "</style>\n",
       "<table border=\"1\" class=\"dataframe\">\n",
       "  <thead>\n",
       "    <tr style=\"text-align: right;\">\n",
       "      <th></th>\n",
       "      <th>grupo_A</th>\n",
       "      <th>grupo_B</th>\n",
       "      <th>p_valor</th>\n",
       "      <th>test</th>\n",
       "      <th>significativo_Bonferroni</th>\n",
       "    </tr>\n",
       "  </thead>\n",
       "  <tbody>\n",
       "    <tr>\n",
       "      <th>0</th>\n",
       "      <td>Bachelor</td>\n",
       "      <td>College</td>\n",
       "      <td>0.568650</td>\n",
       "      <td>Mann-Whitney U</td>\n",
       "      <td>False</td>\n",
       "    </tr>\n",
       "    <tr>\n",
       "      <th>1</th>\n",
       "      <td>Bachelor</td>\n",
       "      <td>Doctor</td>\n",
       "      <td>0.952377</td>\n",
       "      <td>Mann-Whitney U</td>\n",
       "      <td>False</td>\n",
       "    </tr>\n",
       "    <tr>\n",
       "      <th>2</th>\n",
       "      <td>Bachelor</td>\n",
       "      <td>High School or Below</td>\n",
       "      <td>0.928344</td>\n",
       "      <td>Mann-Whitney U</td>\n",
       "      <td>False</td>\n",
       "    </tr>\n",
       "    <tr>\n",
       "      <th>3</th>\n",
       "      <td>Bachelor</td>\n",
       "      <td>Master</td>\n",
       "      <td>0.969061</td>\n",
       "      <td>Mann-Whitney U</td>\n",
       "      <td>False</td>\n",
       "    </tr>\n",
       "    <tr>\n",
       "      <th>4</th>\n",
       "      <td>College</td>\n",
       "      <td>Doctor</td>\n",
       "      <td>0.853139</td>\n",
       "      <td>Mann-Whitney U</td>\n",
       "      <td>False</td>\n",
       "    </tr>\n",
       "    <tr>\n",
       "      <th>5</th>\n",
       "      <td>College</td>\n",
       "      <td>High School or Below</td>\n",
       "      <td>0.862049</td>\n",
       "      <td>Mann-Whitney U</td>\n",
       "      <td>False</td>\n",
       "    </tr>\n",
       "    <tr>\n",
       "      <th>6</th>\n",
       "      <td>College</td>\n",
       "      <td>Master</td>\n",
       "      <td>0.853093</td>\n",
       "      <td>Mann-Whitney U</td>\n",
       "      <td>False</td>\n",
       "    </tr>\n",
       "    <tr>\n",
       "      <th>7</th>\n",
       "      <td>Doctor</td>\n",
       "      <td>High School or Below</td>\n",
       "      <td>0.978843</td>\n",
       "      <td>Mann-Whitney U</td>\n",
       "      <td>False</td>\n",
       "    </tr>\n",
       "    <tr>\n",
       "      <th>8</th>\n",
       "      <td>Doctor</td>\n",
       "      <td>Master</td>\n",
       "      <td>0.990734</td>\n",
       "      <td>Mann-Whitney U</td>\n",
       "      <td>False</td>\n",
       "    </tr>\n",
       "    <tr>\n",
       "      <th>9</th>\n",
       "      <td>High School or Below</td>\n",
       "      <td>Master</td>\n",
       "      <td>0.984739</td>\n",
       "      <td>Mann-Whitney U</td>\n",
       "      <td>False</td>\n",
       "    </tr>\n",
       "  </tbody>\n",
       "</table>\n",
       "</div>"
      ],
      "text/plain": [
       "                grupo_A               grupo_B   p_valor            test  \\\n",
       "0              Bachelor               College  0.568650  Mann-Whitney U   \n",
       "1              Bachelor                Doctor  0.952377  Mann-Whitney U   \n",
       "2              Bachelor  High School or Below  0.928344  Mann-Whitney U   \n",
       "3              Bachelor                Master  0.969061  Mann-Whitney U   \n",
       "4               College                Doctor  0.853139  Mann-Whitney U   \n",
       "5               College  High School or Below  0.862049  Mann-Whitney U   \n",
       "6               College                Master  0.853093  Mann-Whitney U   \n",
       "7                Doctor  High School or Below  0.978843  Mann-Whitney U   \n",
       "8                Doctor                Master  0.990734  Mann-Whitney U   \n",
       "9  High School or Below                Master  0.984739  Mann-Whitney U   \n",
       "\n",
       "   significativo_Bonferroni  \n",
       "0                     False  \n",
       "1                     False  \n",
       "2                     False  \n",
       "3                     False  \n",
       "4                     False  \n",
       "5                     False  \n",
       "6                     False  \n",
       "7                     False  \n",
       "8                     False  \n",
       "9                     False  "
      ]
     },
     "execution_count": 589,
     "metadata": {},
     "output_type": "execute_result"
    }
   ],
   "source": [
    "#Función Prueba de hipótesis\n",
    "def prueba_hipotesis(*args):\n",
    "    \"\"\"\n",
    "    Realiza una prueba de hipótesis para comparar grupos.\n",
    "    1. Primero verifica si los datos son normales usando el test de Shapiro-Wilk o Kolmogorov-Smirnov.\n",
    "    2. Si los datos son normales, usa Bartlett para probar igualdad de varianzas. Si no son normales, usa Levene.\n",
    "    3. Si las varianzas son iguales, usa el t-test de Student; si no, usa la versión de Welch.\n",
    "    4. Si los datos no son normales, usa el test de Mann-Whitney\n",
    "\n",
    "    Parámetros:\n",
    "    *args: listas o arrays con los datos de cada grupo. Espera DOS grupos a comparar\n",
    "\n",
    "    Retorna:\n",
    "    dict con resultados del test de normalidad, varianza e hipótesis.\n",
    "    \"\"\"\n",
    "    if len(args) < 2:\n",
    "        raise ValueError(\"Se necesitan al menos dos conjuntos de datos para realizar la prueba.\")\n",
    "    \n",
    "    normalidad = []\n",
    "    for grupo in args:\n",
    "        if len(grupo) > 50:\n",
    "            p_valor_norm = stats.kstest(grupo, 'norm').pvalue\n",
    "        else:\n",
    "            p_valor_norm = stats.shapiro(grupo).pvalue\n",
    "        normalidad.append(p_valor_norm > 0.05)\n",
    "\n",
    "    datos_normales = all(normalidad)\n",
    "\n",
    "    if datos_normales:\n",
    "        p_valor_varianza = stats.bartlett(*args).pvalue\n",
    "    else:\n",
    "        p_valor_varianza = stats.levene(*args, center=\"median\").pvalue\n",
    "\n",
    "    varianzas_iguales = p_valor_varianza > 0.05\n",
    "\n",
    "    if datos_normales:\n",
    "        if varianzas_iguales:\n",
    "            t_stat, p_valor = stats.ttest_ind(*args, equal_var=True)\n",
    "            test_usado = \"t-test de Student (varianzas iguales)\"\n",
    "        else:\n",
    "            t_stat, p_valor = stats.ttest_ind(*args, equal_var=False)\n",
    "            test_usado = \"t-test de Welch (varianzas desiguales)\"\n",
    "    else:\n",
    "        t_stat, p_valor = stats.mannwhitneyu(*args)\n",
    "        test_usado = \"Mann-Whitney U\"\n",
    "\n",
    "    alfa = 0.05\n",
    "    resultado = {\n",
    "        \"Test de Normalidad\": normalidad,\n",
    "        \"Datos Normales\": datos_normales,\n",
    "        \"p-valor Varianza\": p_valor_varianza,\n",
    "        \"Varianzas Iguales\": varianzas_iguales,\n",
    "        \"Test Usado\": test_usado,\n",
    "        \"Estadístico\": t_stat,\n",
    "        \"p-valor\": p_valor,\n",
    "        \"Conclusión\": \"Rechazamos H0. Es decir, sí hay diferencias significativas)\" if p_valor < alfa else \"No se rechaza H0. Es decir, no hay diferencias significativas)\"\n",
    "    }\n",
    "\n",
    "    print(\"\\n📊 **Resultados de la Prueba de Hipótesis** 📊\")\n",
    "    print(f\"✅ Test de Normalidad: {'Sí' if datos_normales else 'No'}\")\n",
    "    print(f\"   - Normalidad por grupo: {normalidad}\")\n",
    "    print(f\"✅ Test de Varianza: {'Iguales' if varianzas_iguales else 'Desiguales'} (p = {p_valor_varianza:.4f})\")\n",
    "    print(f\"✅ Test aplicado: {test_usado}\")\n",
    "    print(f\"📉 Estadístico: {t_stat:.4f}, p-valor: {p_valor:.4f}\")\n",
    "    print(f\"🔍 Conclusión: {resultado['Conclusión']}\\n\")\n",
    "    return resultado\n",
    "\n",
    "# === PREPARACIÓN DE DATOS (tus variables) ===\n",
    "# Un cliente por loyalty_number y columnas relevantes\n",
    "clients = df_master.drop_duplicates(subset=[\"loyalty_number\"])\n",
    "df = clients[[\"education\", \"flights_booked\"]].dropna()\n",
    "\n",
    "# === (Opcional) PRUEBA GLOBAL: ANOVA entre ≥3 niveles ===\n",
    "if df[\"education\"].nunique() >= 3:\n",
    "    grupos = [df.loc[df[\"education\"] == e, \"flights_booked\"].values for e in sorted(df[\"education\"].unique())]\n",
    "    F, p_anova = stats.f_oneway(*grupos)\n",
    "    print(f\"ANOVA global: F={F:.4f}, p={p_anova:.4g}\")\n",
    "\n",
    "# === PRUEBAS PAREADAS CON TU FUNCIÓN + BONFERRONI ===\n",
    "niveles = sorted(df[\"education\"].unique())\n",
    "pares = list(combinations(niveles, 2))\n",
    "alpha_bonf = 0.05 / len(pares) if pares else 0.05\n",
    "print(f\"Alpha Bonferroni: {alpha_bonf:.4g}\")\n",
    "\n",
    "\n",
    "resultados_pareados = []\n",
    "for a, b in pares:\n",
    "    g1 = df.loc[df[\"education\"] == a, \"flights_booked\"].values\n",
    "    g2 = df.loc[df[\"education\"] == b, \"flights_booked\"].values\n",
    "    res = prueba_hipotesis(g1, g2)\n",
    "    resultados_pareados.append({\n",
    "        \"grupo_A\": a,\n",
    "        \"grupo_B\": b,\n",
    "        \"p_valor\": res[\"p-valor\"],\n",
    "        \"test\": res[\"Test Usado\"],\n",
    "        \"significativo_Bonferroni\": res[\"p-valor\"] < alpha_bonf\n",
    "    })\n",
    "\n",
    "pd.DataFrame(resultados_pareados)\n"
   ]
  },
  {
   "cell_type": "markdown",
   "id": "4f0f4bcd",
   "metadata": {},
   "source": [
    "Con esta muestra no se encontraron diferencias significativas."
   ]
  },
  {
   "cell_type": "code",
   "execution_count": 590,
   "id": "2ceec701",
   "metadata": {},
   "outputs": [],
   "source": [
    "def confidence_interval_pretty(df, group_col, value_col, confidence=0.95):\n",
    "    results = []\n",
    "    for nivel, datos in df.groupby(group_col)[value_col]:\n",
    "        n = len(datos)\n",
    "        mean_val = datos.mean()\n",
    "        std_val = datos.std(ddof=1)\n",
    "\n",
    "        # margen de error\n",
    "        margin_error = stats.t.ppf((1 + confidence) / 2, df=n-1) * (std_val / np.sqrt(n))\n",
    "\n",
    "        results.append({\n",
    "            group_col: nivel,\n",
    "            \"mean\": round(mean_val, 2),\n",
    "            f\"IC_{int(confidence*100)}%\": f\"{mean_val:.2f} ± {margin_error:.2f}\"\n",
    "        })\n",
    "    \n",
    "    return pd.DataFrame(results)"
   ]
  },
  {
   "cell_type": "code",
   "execution_count": 591,
   "id": "d6f1df7b",
   "metadata": {},
   "outputs": [
    {
     "name": "stdout",
     "output_type": "stream",
     "text": [
      "              education  mean       IC_95%\n",
      "0              Bachelor  2.84  2.84 ± 0.08\n",
      "1               College  2.88  2.88 ± 0.12\n",
      "2                Doctor  2.96  2.96 ± 0.31\n",
      "3  High School or Below  2.88  2.88 ± 0.29\n",
      "4                Master  2.96  2.96 ± 0.37\n"
     ]
    }
   ],
   "source": [
    "ci_df = confidence_interval_pretty(flights_by_education, \"education\", \"flights_booked\")\n",
    "print(ci_df)#la funcion de la profe dejó el intervalo de confianza en el rango. yo lo convertí a la media. "
   ]
  },
  {
   "cell_type": "markdown",
   "id": "493418ac",
   "metadata": {},
   "source": [
    "Se analizó si existían diferencias en el número de vuelos reservados según el nivel educativo. Los resultados de las pruebas de hipótesis (Mann-Whitney U) mostraron que no hay diferencias estadísticamente significativas entre los grupos (p-valores > 0.05).\n",
    "Además, los intervalos de confianza al 95% de las medias de cada nivel educativo se solapan ampliamente (por ejemplo, Bachelor: 2.84 ± 0.08; Doctor: 2.96 ± 0.31), lo que refuerza la conclusión de que el nivel educativo no influye de manera significativa en el número de vuelos reservados."
   ]
  },
  {
   "cell_type": "markdown",
   "id": "d75c8c1f",
   "metadata": {},
   "source": [
    "## Conclusión global\n",
    "\n",
    "El análisis del dataset muestra que la mayoría de clientes son casados y que la distribución por género es equilibrada. La tarjeta de fidelidad *Star* concentra la mayor proporción de clientes, mientras que *Nova* ocupa el segundo lugar y *Aurora* es minoritaria.  \n",
    "\n",
    "En el plano socioeconómico, el salario promedio aumenta con el nivel educativo, aunque este factor no influye significativamente en el número de vuelos reservados, según el análisis inferencial realizado.  \n",
    "\n",
    "En conjunto, los resultados sugieren que el comportamiento de fidelidad está más condicionado por factores comerciales (tipo de tarjeta de fidelidad) que por características demográficas o educativas.  \n"
   ]
  }
 ],
 "metadata": {
  "kernelspec": {
   "display_name": "base",
   "language": "python",
   "name": "python3"
  },
  "language_info": {
   "codemirror_mode": {
    "name": "ipython",
    "version": 3
   },
   "file_extension": ".py",
   "mimetype": "text/x-python",
   "name": "python",
   "nbconvert_exporter": "python",
   "pygments_lexer": "ipython3",
   "version": "3.13.5"
  }
 },
 "nbformat": 4,
 "nbformat_minor": 5
}
